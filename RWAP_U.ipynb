{
  "cells": [
    {
      "cell_type": "markdown",
      "metadata": {
        "id": "Qmo19XtcJKUH"
      },
      "source": [
        "# **FIFA Player Segmentation: Identifying Distinct Player Profiles**"
      ]
    },
    {
      "cell_type": "markdown",
      "metadata": {
        "colab_type": "toc",
        "id": "akzm-RyaOoK1"
      },
      "source": [
        ">[FIFA Player Segmentation: Identifying Distinct Player Profiles](#scrollTo=Qmo19XtcJKUH)\n",
        "\n",
        ">[1. Project Objectives](#scrollTo=Zy2NluWLPWjq)\n",
        "\n",
        ">>[1.1. PO1](#scrollTo=Zy2NluWLPWjq)\n",
        "\n",
        ">>[1.2. PO2](#scrollTo=Zy2NluWLPWjq)\n",
        "\n",
        ">>[1.3. PO3](#scrollTo=Zy2NluWLPWjq)\n",
        "\n",
        ">[2. Description of Data](#scrollTo=hapPQob6YnpQ)\n",
        "\n",
        ">>[2.1. Index Variables](#scrollTo=jQto7_sYlvLP)\n",
        "\n",
        ">>[2.2. Categorical Variables (CV)](#scrollTo=jQto7_sYlvLP)\n",
        "\n",
        ">>>[2.2.1. Categorical Variables - Nominal Type](#scrollTo=jQto7_sYlvLP)\n",
        "\n",
        ">>>[2.2.2. Categorical Variables - Ordinal Type](#scrollTo=jQto7_sYlvLP)\n",
        "\n",
        ">>[2.3. Non-Categorical Variables (NCV)](#scrollTo=jQto7_sYlvLP)\n",
        "\n",
        ">[3. Analysis of Data](#scrollTo=GhvkMLgGrXZx)\n",
        "\n",
        ">>[3.1. Data Pre-Processing](#scrollTo=kP-SQ5JSDI3i)\n",
        "\n",
        ">>>[3.1.1. Missing Data Statistics and Treatment](#scrollTo=kP-SQ5JSDI3i)\n",
        "\n",
        ">>>>[3.1.1.1. Missing Data Statistics: Records](#scrollTo=h9Uxil6WDnd0)\n",
        "\n",
        ">>>>[3.1.1.2. Missing Data Treatment: Records](#scrollTo=SqHif7DND9dY)\n",
        "\n",
        ">>>>>[3.1.1.2.1. Imputation of Missing Data](#scrollTo=6eFnVW9dFuB6)\n",
        "\n",
        ">>>>>[3.1.1.2.2. Removal of Records with More Than 50% Missing Data](#scrollTo=dgJfWYk3EM2M)\n",
        "\n",
        ">>>[3.1.2. Numerical Encoding of Categorical Variables](#scrollTo=G9KOGIfIGRqz)\n",
        "\n",
        ">>>[3.1.3. Outlier Statistics and Treatment](#scrollTo=uLsyaF5hGq7y)\n",
        "\n",
        ">>>>[3.1.3.1. Outlier Treatment: Non-Categorical Variables](#scrollTo=uLsyaF5hGq7y)\n",
        "\n",
        ">>[3.2. Data Analysis](#scrollTo=iZ33pASsLXYJ)\n",
        "\n",
        ">>>[3.2.1. Assessment Criteria](#scrollTo=iZ33pASsLXYJ)\n",
        "\n",
        ">>>[3.2.2. K-Means Clustering | Metrics Used - Euclidean Distance](#scrollTo=_k0HrMbcMBH1)\n",
        "\n",
        ">>>>[3.2.2.1. Determining Value of 'k' | Elbow Curve & K-means Inertia](#scrollTo=L6lFTJhgN3-E)\n",
        "\n",
        ">>>>[3.2.2.2. K-means 4 Clustering Analysis](#scrollTo=JTv0xS6Mt7td)\n",
        "\n",
        ">>>>>[3.2.2.2.1. Model Performance Evaluation](#scrollTo=JTv0xS6Mt7td)\n",
        "\n",
        ">>>>>[3.2.2.2.2. Cluster 4 Profile Analysis](#scrollTo=-_hTw59WcU9q)\n",
        "\n",
        ">[4. Results | Observations](#scrollTo=duwbwKZIcdWQ)\n",
        "\n",
        ">[5. Managerial Insights](#scrollTo=AxrVN-i7Gkix)\n",
        "\n"
      ]
    },
    {
      "cell_type": "markdown",
      "metadata": {
        "id": "Zy2NluWLPWjq"
      },
      "source": [
        "# **1. Project Objectives**\n",
        "\n",
        "## **1.1. PO1**\n",
        "\n",
        "Segmentation of FIFA Player Data using K-means Clustering to identify distinct groups based on player attributes\n",
        "\n",
        "\n",
        "## **1.2. PO2**\n",
        "Identification of the optimal number of clusters (k) in the FIFA Player data to ensure meaningful and interpretable groupings.\n",
        "\n",
        "## **1.3. PO3**\n",
        "Determination of the characteristics of each cluster to understand the unique features and trends within each identified player cluster by analyzing how various player positions, attributes and skills differ between clusters.\n",
        "\n"
      ]
    },
    {
      "cell_type": "markdown",
      "metadata": {
        "id": "hapPQob6YnpQ"
      },
      "source": [
        "# **2. Description of Data**\n",
        "\n",
        "\n"
      ]
    },
    {
      "cell_type": "markdown",
      "metadata": {
        "id": "jQto7_sYlvLP"
      },
      "source": [
        "## **2.1. Index Variables**\n",
        "\n",
        "The dataset did not have a natural identifier like an \"ID\" column, which could be set as the index for easier retrieval by specific identifiers.\n",
        "\n",
        "Hence, an index variable was created bu using `player_id` without modifying the actual data itself to significantly improve the organization and interpretability of the data for further analysis and exploration.\n",
        "\n",
        "> Refer Code Block ([Cell ](#scrollTo=bVALc9YXYSeM&uniqifier=1))\n",
        "\n",
        "## 2.2. **Categorical Variables (CV)**\n",
        "\n",
        "### **2.2.1. Categorical Variables - Nominal Type**\n",
        "\n",
        "* `fifa_version`: The version of the FIFA game the data is associated with.\n",
        "* `league_id`: A numerical identifier for the league in which the player is currently active.\n",
        "* `club_team_id`: A numerical identifier for the club the player is currently playing for.\n",
        "* `club_position`: The primary position the player occupies within their club.\n",
        "* `nationality_id`: A numerical identifier for the player's nationality.\n",
        "* `nation_team_id`: A numerical identifier for the national team the player represents (if applicable).\n",
        "* `preferred_foot`: The player's preferred foot for kicking the ball (Left or Right).\n",
        "* `body_type`: The general body shape or build of the player (e.g., Normal, Lean, Stocky).\n",
        "\n",
        "\n",
        "\n",
        "\n",
        "### 2.2.2. **Categorical Variables - Ordinal Type**\n",
        "\n",
        "* `league_level`: The hierarchical level of the league the player is in, implying a ranking or order of leagues.\n",
        "* `weak_foot`: A rating (from 1 to 5) indicating the skill level of the player's weaker foot.\n",
        "* `skill_moves`: A rating (from 1 to 5) representing the player's ability to perform technical moves or tricks.\n",
        "* `international_reputation`: A rating (from 1 to 5) reflecting the player's renown and recognition on the international stage.\n",
        "* `work_rate`: A categorical variable describing the player's work ethic and stamina both in attack and defense (e.g., High/Low, Medium/Medium).\n",
        "\n",
        "## 2.3. **Non-Categorical Variables (NCV)**\n",
        "\n",
        "* `fifa_update`: An integer likely representing an update or patch number within a FIFA version\n",
        "* `overall`, `potential`: Overall and potential ratings of the player, indicating their current and future ability\n",
        "* `value_eur`, `wage_eur`: The player's estimated market value and weekly wage in Euros\n",
        "* `age`: The player's age in years.\n",
        "* `height_cm`: The player's height in centimeters.\n",
        "* `weight_kg`: The player's weight in kilograms\n",
        "* `club_jersey_number`: The jersey number the player wears for their club\n",
        "* `pace`, `shooting`, `passing`, `dribbling`, `defending`, `physic`: Core attributes representing the player's abilities in different aspects of the game\n",
        "* `attacking_crossing`, `attacking_finishing`, `attacking_heading_accuracy`, `attacking_short_passing`, `attacking_volleys`: Specific attacking attributes\n",
        "* `skill_dribbling`, `skill_curve`, `skill_fk_accuracy`, `skill_long_passing`, `skill_ball_control`: Skill-related attributes\n",
        "* `movement_acceleration`, `movement_sprint_speed`, `movement_agility`, `movement_reactions`, `movement_balance`: Movement-related attributes\n",
        "* `power_shot_power`, `power_jumping`, `power_stamina`, `power_strength`, `power_long_shots`: Power-related attributes\n",
        "* `mentality_aggression`, `mentality_interceptions`, `mentality_positioning`, `mentality_vision`, `mentality_penalties`, `mentality_composure`: Mentality or psychological attributes.\n",
        "* `defending_marking_awareness`, `defending_standing_tackle`, `defending_sliding_tackle`: Defensive attributes.\n",
        "* `goalkeeping_diving`, `goalkeeping_handling`, `goalkeeping_kicking`, `goalkeeping_positioning`, `goalkeeping_reflexes`, `goalkeeping_speed`: Goalkeeping-specific attributes\n",
        "\n",
        "> Refer Code Block ([Cell ](#scrollTo=1FgYlqrBbQVe&uniqifier=1))\n",
        "\n"
      ]
    },
    {
      "cell_type": "markdown",
      "metadata": {
        "id": "qwpujvHqlOw4"
      },
      "source": [
        "NOTE: Dropping irrelevant columns  from the DataFrame 'df' to simplify the dataset not needed for analysis.\n",
        "> Refer Code Block ([Cell ](#scrollTo=mP847tUYbQh3&line=2&uniqifier=1))"
      ]
    },
    {
      "cell_type": "markdown",
      "metadata": {
        "id": "GhvkMLgGrXZx"
      },
      "source": [
        "# **3. Analysis of Data**\n"
      ]
    },
    {
      "cell_type": "markdown",
      "metadata": {
        "id": "kP-SQ5JSDI3i"
      },
      "source": [
        "## **3.1. Data Pre-Processing**\n",
        "\n",
        "### 3.1.1. Missing Data Statistics and Treatment"
      ]
    },
    {
      "cell_type": "markdown",
      "metadata": {
        "id": "h9Uxil6WDnd0"
      },
      "source": [
        "#### 3.1.1.1. Missing Data Statistics: Records\n",
        "\n",
        "The dataset is divided into two subsets based on categorical and non-categorical variables. The code calculates and prints the number of missing values for each variable and record.\n",
        "\n",
        "> Refer Code Block ([Cell ](#scrollTo=9PrnNh8RbQSO))"
      ]
    },
    {
      "cell_type": "markdown",
      "metadata": {
        "id": "SqHif7DND9dY"
      },
      "source": [
        "\n",
        "#### 3.1.1.2. Missing Data Treatment: Records\n",
        "\n",
        "> Refer Code Block ([Cell ](#scrollTo=LG3Zd5gzbQPV))\n",
        "\n",
        "\n"
      ]
    },
    {
      "cell_type": "markdown",
      "metadata": {
        "id": "6eFnVW9dFuB6"
      },
      "source": [
        "##### 3.1.1.2.1. Imputation of Missing Data\n",
        "\n",
        "Missing categorical data is imputed using the most frequent value, while missing non-categorical data is also imputed using the most frequent value.\n",
        "\n",
        "> Refer Code Block ([Cell ](#scrollTo=pARLyWKVbQL2))\n"
      ]
    },
    {
      "cell_type": "markdown",
      "metadata": {
        "id": "dgJfWYk3EM2M"
      },
      "source": [
        "##### 3.1.1.2.2. Removal of Records with More Than 50% Missing Data\n",
        "\n",
        "Empty records and variables are excluded from the dataset.\n",
        "\n",
        "> Refer Code Block ([Cell ](#scrollTo=fOJiNgulbQBz))"
      ]
    },
    {
      "cell_type": "markdown",
      "metadata": {
        "id": "G9KOGIfIGRqz"
      },
      "source": [
        "### 3.1.2. Numerical Encoding of Categorical Variables\n",
        "\n",
        "Categorical data is encoded numerically using the Ordinal Encoder from scikit-learn.\n",
        "\n",
        "> Refer Code Block ([Cell ](#scrollTo=LtGZX-zmbP_m))"
      ]
    },
    {
      "cell_type": "markdown",
      "metadata": {
        "id": "uLsyaF5hGq7y"
      },
      "source": [
        "### 3.1.3. Outlier Statistics and Treatment\n",
        "\n",
        "#### 3.1.3.1. Outlier Treatment: Non-Categorical Variables\n",
        "\n",
        "Non-categorical variables are normalized using Min-Max Scaler to handle outliers.\n",
        "\n",
        "> Refer Code Block ([Cell ](#scrollTo=hg1DCj81bP6i))"
      ]
    },
    {
      "cell_type": "markdown",
      "metadata": {
        "id": "iZ33pASsLXYJ"
      },
      "source": [
        "## **3.2. Data Analysis**\n",
        "\n",
        "### 3.2.1. Assessment Criteria\n",
        "\n",
        "1. **Silhouette Score (SS)**:\n",
        "   - The Silhouette Score is a measure of how similar an object is to its own cluster compared to other clusters.\n",
        "   - It quantifies the separation between clusters. A high Silhouette Score indicates that the object is well matched to its own cluster and poorly matched to neighboring clusters.\n",
        "   - The Silhouette Score ranges from -1 to 1, where a high value indicates that the object is well-clustered, a value near 0 indicates overlapping clusters, and negative values suggest that the object may have been assigned to the wrong cluster.\n",
        "   - In the context of K-means clustering, the average Silhouette Score across all data points can be used to evaluate the quality of clustering. Higher average Silhouette Scores indicate better-defined clusters.\n",
        "\n",
        "2. **Davies-Bouldin Index (DBI)**:\n",
        "   - The Davies-Bouldin Index is a measure of cluster compactness and separation.\n",
        "   - It evaluates the average similarity between each cluster and its most similar cluster, weighted by the cluster sizes.\n",
        "   - A lower DBI indicates better clustering, with clusters that are well-separated from each other and internally compact.\n",
        "   - The DBI considers both intra-cluster and inter-cluster distances, aiming to minimize intra-cluster distance while maximizing inter-cluster distance.\n",
        "   - Like the Silhouette Score, the Davies-Bouldin Index is used to assess the quality of clustering algorithms, with lower values indicating better-defined clusters.\n",
        "\n",
        "**NOTE:**\n",
        "\n",
        "* DBI: Lower values are better. A DBI close to 0 indicates well-separated clusters.\n",
        "* Silhouette Score: Higher values are better. A score close to 1 indicates dense, well-separated clusters, while negative values suggest overlapping clusters.\n",
        "\n",
        "These metrics provide insights into the quality and interpretability of the clustering results, helping to guide the selection of the optimal number of clusters for a given dataset.\n"
      ]
    },
    {
      "cell_type": "markdown",
      "metadata": {
        "id": "_k0HrMbcMBH1"
      },
      "source": [
        "### 3.2.2. K-Means Clustering | Metrics Used - Euclidean Distance\n",
        "\n",
        "1. **Simple and Fast**: K-means is computationally efficient and relatively easy to understand and implement. It works well with large datasets, making it suitable for analysis even when dealing with a significant amount of data.\n",
        "\n",
        "2. **Scalability**: K-means clustering is scalable to a large number of samples and has been used in many large-scale data processing scenarios.\n",
        "\n",
        "3. **Interpretability**: K-means produces clusters that are easy to interpret. Each cluster is represented by its centroid, which is the mean of all the data points assigned to that cluster. This centroid can provide insight into the characteristics of the cluster.\n",
        "\n",
        "4. **Versatility**: K-means can be applied to various types of data and can handle both numerical and categorical variables (after appropriate preprocessing). This versatility makes it applicable to a wide range of datasets.\n",
        "\n",
        "5. **Well-suited for Convex Clusters**: K-means performs well when clusters are spherical or close to spherical in shape. It tries to minimize the within-cluster variance, which makes it suitable for convex clusters.\n",
        "\n",
        "6. **Initial Centroid Selection**: While the performance of K-means can be sensitive to the initial choice of centroids, there are strategies to mitigate this issue, such as multiple initializations with different seeds and more advanced methods like k-means++.\n",
        "\n",
        "However, it's essential to consider potential limitations as well:\n",
        "\n",
        "1. **Sensitive to Initial Centroid Selection**: The results of K-means clustering can be sensitive to the initial placement of centroids. Different initializations may lead to different results.\n",
        "\n",
        "2. **Assumes Spherical Clusters**: K-means assumes that clusters are spherical and isotropic, which may not always hold true for complex datasets with irregularly shaped clusters.\n",
        "\n",
        "3. **Number of Clusters (K) Selection**: Determining the appropriate number of clusters (K) can be challenging and may require domain knowledge or additional validation techniques, such as the elbow method or silhouette analysis.\n",
        "\n",
        "4. **Sensitive to Outliers**: K-means is sensitive to outliers, as it tries to minimize the within-cluster variance. Outliers can significantly impact the positions of cluster centroids.\n",
        "\n",
        "5. **Equal Variance Among Clusters**: K-means assumes that clusters have equal variance, which may not always be the case in practice.\n",
        "\n",
        "Overall, while K-means clustering has its limitations, it can still be a valuable tool for exploratory analysis and pattern discovery in your dataset, especially if the assumptions of the algorithm are met and appropriate preprocessing steps are taken.\n"
      ]
    },
    {
      "cell_type": "markdown",
      "metadata": {
        "id": "L6lFTJhgN3-E"
      },
      "source": [
        "#### 3.2.2.1. Determining Value of 'k' | Elbow Curve & K-means Inertia\n",
        "\n",
        "The elbow curve is used to determine the optimal number of clusters (k) for the K-means clustering algorithm. It plots the Within Cluster Sum of Squared Distances (WCSS) on the y-axis and the number of clusters (k) on the x-axis.\n",
        "\n",
        "The elbow curve appears to have a distinct bend and decreases steadily around k=3. This suggests that optimal number of clusters for this dataset will be in the range of 2 to 4.\n",
        "\n",
        "> Refer Code Block ([Cell ](#scrollTo=N6-oTfNasSy0))"
      ]
    },
    {
      "cell_type": "markdown",
      "metadata": {
        "id": "JTv0xS6Mt7td"
      },
      "source": [
        "#### 3.2.2.2. K-means 4 Clustering Analysis\n",
        "\n",
        "> Refer Code Block ([Cell ](#scrollTo=yJY7BBDnXL_V))\n",
        "\n",
        "##### 3.2.2.2.1. Model Performance Evaluation\n",
        "\n",
        "\n",
        "- **Davies-Bouldin Index (DBI): 0.058**\n",
        "\n",
        "  A very low DBI value indicates excellent clustering performance. It suggests that the clusters are well-separated and compact, with minimal overlap between them.\n",
        "\n",
        "- **Silhouette Score: 0.976**\n",
        "\n",
        "  A Silhouette Score close to 1 signifies outstanding clustering quality. It implies that the data points within each cluster are very similar to each other and dissimilar to points in other clusters.\n",
        "\n",
        "- **Overall Assessment:**\n",
        "\n",
        "  Based on both the DBI and Silhouette Score, the K-means clustering model with 4 clusters exhibits exceptional performance on the given dataset. The clusters are highly distinct and internally cohesive, suggesting that the model has effectively captured the underlying structure of the data. This strong performance increases confidence in the meaningfulness and interpretability of the identified clusters, providing a solid foundation for further analysis and insights.\n",
        "\n",
        "\n",
        "\n",
        "\n",
        "\n",
        "\n",
        "\n",
        "\n",
        "\n",
        "\n",
        "> Refer Code Block ([Cell ](#scrollTo=IJJqGlXbXdW8))\n",
        "\n",
        "\n",
        "\n",
        "\n",
        "\n",
        "\n",
        "\n",
        "\n",
        "\n"
      ]
    },
    {
      "cell_type": "markdown",
      "metadata": {
        "id": "-_hTw59WcU9q"
      },
      "source": [
        "##### 3.2.2.2.2. Cluster 4 Profile Analysis\n",
        "\n",
        "\n",
        "**ANOVA Results**\n",
        "\n",
        "* **Significant Differences:**\n",
        "    * Most non-categorical variables, including `overall_mmnorm`, `potential_mmnorm`, `value_eur_mmnorm`, `wage_eur_mmnorm`, and various skill attributes, showed **extremely small p-values (close to 0)**, indicating highly significant differences between clusters. This suggests that these attributes play a crucial role in distinguishing player clusters.\n",
        "    * `age`, `height_cm_mmnorm`, and `weight_kg_mmnorm` also exhibited statistically significant differences between clusters.\n",
        "    * Interestingly, `movement_balance_mmnorm` did not show a significant difference (p-value = 0.077), suggesting that balance might not be a key factor in differentiating these player groups.\n",
        "    * Goalkeeping attributes, while showing some significant differences, had relatively higher p-values, likely due to the smaller sample size of goalkeepers in the dataset.\n",
        "    * The warning about constant input arrays for `fifa_update` implies that this variable has the same value across all clusters and thus doesn't contribute to cluster differentiation.\n",
        "\n",
        "**Chi-Square Test Results**\n",
        "\n",
        "* **Strong Associations:**\n",
        "    * All categorical variables, except for `preferred_foot_oe`, demonstrated **very small p-values (close to 0)**, indicating a strong association between these variables and the cluster assignments. This highlights their importance in defining the player clusters.\n",
        "    * `league_id`, `club_team_id`, `nationality_id`, and `nation_team_id` showed particularly strong associations, suggesting that these factors heavily influence player grouping.\n",
        "    * `preferred_foot_oe` showed a p-value of 0.0199, which is still statistically significant, although the association with cluster labels is weaker compared to other categorical variables.\n",
        "\n",
        "\n",
        "**Cluster Profile Analysis**\n",
        "\n",
        "**1. Centricity Analysis**\n",
        "\n",
        "Centricity analysis involves examining the cluster centers (centroids) to understand the typical characteristics of players within each cluster. Below are key observations from the provided centroids:\n",
        "\n",
        "* **Cluster 0 (Goalkeepers):**\n",
        "    * Characterized by significantly higher values in goalkeeping attributes (diving, handling, kicking, positioning, reflexes, speed).\n",
        "    * Lower values in outfield attributes like pace, shooting, passing, dribbling, defending, and physic.\n",
        "    * Club position is predominantly 'GK.'\n",
        "\n",
        "* **Cluster 1 (High-Rated Players):**\n",
        "    * Possesses the highest overall and potential ratings among all clusters.\n",
        "    * High values in most key skill attributes (shooting, passing, dribbling, etc.), indicating well-rounded players.\n",
        "    * Higher market value (`value_eur`) and wage (`wage_eur`).\n",
        "    * Includes a mix of positions, but likely skewed towards attacking roles given the higher emphasis on offensive skills.\n",
        "\n",
        "* **Cluster 2 (Mid-Tier Players):**\n",
        "    * Exhibits mid-range overall and potential ratings, falling between the high-rated and lower-rated clusters.\n",
        "    * Skill attributes are generally balanced, suggesting a mix of players with diverse skill sets.\n",
        "    * Market value and wages are lower than Cluster 1 but higher than Cluster 3.\n",
        "    * Likely encompasses a wider range of positions, including midfielders and defenders.\n",
        "\n",
        "* **Cluster 3 (Lower-Rated Players):**\n",
        "    * Displays the lowest overall and potential ratings.\n",
        "    * Skill attributes are generally lower across the board, implying less developed or specialized players.\n",
        "    * Market value and wages are the lowest among all clusters.\n",
        "    * May include a mix of young players with high potential and older players in the twilight of their careers.\n",
        "\n",
        "**2. Cluster Sizes**\n",
        "\n",
        "The distribution of players across clusters provides additional context for understanding the relative prevalence of each player archetype:\n",
        "\n",
        "* **Cluster 0 (Goalkeepers):** 132 players (relatively small cluster, as expected for goalkeepers)\n",
        "* **Cluster 1 (High-Rated Players):** 10,122 players (a substantial group representing the elite players)\n",
        "* **Cluster 2 (Mid-Tier Players):** 14,612 players (the largest cluster, indicating a majority of players fall in this category)\n",
        "* **Cluster 3 (Lower-Rated Players):** 987 players (a smaller group, likely consisting of young talents and less prominent players)\n",
        "\n",
        "**3. Conclusion**\n",
        "\n",
        "The centricity and cluster size analysis reveals meaningful distinctions between the identified player groups. Cluster 0 represents specialized goalkeepers, Cluster 1 comprises the top-tier, well-rounded players, Cluster 2 encompasses a large group of balanced, mid-tier players, and Cluster 3 includes less developed or specialized players. These insights offer a valuable framework for understanding the diversity of player skills and potential within the FIFA dataset.\n",
        "\n",
        "\n",
        "\n",
        "\n",
        "\n",
        "\n",
        "> Refer Code Block ([Cell ](#scrollTo=jLfOGgQ5Xh0v))\n",
        "  \n",
        "> Refer Code Block ([Cell ](#scrollTo=u-tNiBkVXpSw))\n",
        "\n",
        "> Refer Code Block ([Cell ](#scrollTo=lj7FQqmEX5FX))\n",
        "  \n"
      ]
    },
    {
      "cell_type": "markdown",
      "metadata": {
        "id": "duwbwKZIcdWQ"
      },
      "source": [
        "# **4. Results | Observations**\n",
        "\n",
        "**Clustering Performance Summary**\n",
        "\n",
        "| Clusters | Silhouette Score | Davies-Bouldin Index | Memory Usage (MiB) |\n",
        "|---|---|---|---|\n",
        "| k=2 | 0.908 | 0.165 | 1048.59 |\n",
        "| k=3 | 0.968 | 0.201 | 1078.74 |\n",
        "| k=4 | 0.976 | 0.058 | 1094.34 |\n"
      ]
    },
    {
      "cell_type": "markdown",
      "metadata": {
        "id": "AxrVN-i7Gkix"
      },
      "source": [
        "# **5. Managerial Insights**\n",
        "\n",
        "\n",
        "\n",
        "\n"
      ]
    },
    {
      "cell_type": "markdown",
      "source": [
        "**Player Archetype Identification**\n",
        "\n",
        "The segmentation provides valuable insights into distinct player archetypes, allowing managers to identify players with specific skill sets and potential.\n",
        "\n",
        "**Team Building Strategies**\n",
        "\n",
        "Managers can utilize these insights to build balanced teams by strategically selecting players from different clusters based on their roles and attributes.\n",
        "\n",
        "**Player Valuation and Transfer Decisions**\n",
        "\n",
        "The clustering analysis can inform player valuation and transfer decisions by providing a framework for understanding the relative value of players within different clusters.\n",
        "\n",
        "**Player Development and Training**\n",
        "\n",
        "The clustering analysis can help in player development and training as it can identify the pain points and strengths of each player and work on that.\n"
      ],
      "metadata": {
        "id": "9Qwfy1lgj0EU"
      }
    },
    {
      "cell_type": "markdown",
      "metadata": {
        "id": "jj94aEZ4h5PY"
      },
      "source": [
        "________________________________________________________\n",
        "________________________________________________________"
      ]
    },
    {
      "cell_type": "markdown",
      "metadata": {
        "id": "uPZF3cgskhEo"
      },
      "source": [
        "**Setup**\n",
        "\n",
        "Installation of Pre-Requisite Libraries"
      ]
    },
    {
      "cell_type": "code",
      "execution_count": null,
      "metadata": {
        "colab": {
          "base_uri": "https://localhost:8080/"
        },
        "id": "UoXCwaUOE7Q9",
        "outputId": "594121a3-b239-45be-bd6a-7efd576114d3"
      },
      "outputs": [
        {
          "name": "stdout",
          "output_type": "stream",
          "text": [
            "Collecting memory_profiler\n",
            "  Downloading memory_profiler-0.61.0-py3-none-any.whl.metadata (20 kB)\n",
            "Requirement already satisfied: psutil in /usr/local/lib/python3.10/dist-packages (from memory_profiler) (5.9.5)\n",
            "Downloading memory_profiler-0.61.0-py3-none-any.whl (31 kB)\n",
            "Installing collected packages: memory_profiler\n",
            "Successfully installed memory_profiler-0.61.0\n"
          ]
        }
      ],
      "source": [
        "pip  install memory_profiler"
      ]
    },
    {
      "cell_type": "code",
      "execution_count": null,
      "metadata": {
        "colab": {
          "background_save": true,
          "base_uri": "https://localhost:8080/"
        },
        "id": "MBNBSzEYFzI9",
        "outputId": "d8a6bbed-8cf4-4f88-f9bb-7afd44aef007"
      },
      "outputs": [
        {
          "name": "stdout",
          "output_type": "stream",
          "text": [
            "Collecting ipython-autotime\n",
            "  Downloading ipython_autotime-0.3.2-py2.py3-none-any.whl.metadata (1.4 kB)\n",
            "Requirement already satisfied: ipython in /usr/local/lib/python3.10/dist-packages (from ipython-autotime) (7.34.0)\n",
            "Requirement already satisfied: setuptools>=18.5 in /usr/local/lib/python3.10/dist-packages (from ipython->ipython-autotime) (71.0.4)\n",
            "Collecting jedi>=0.16 (from ipython->ipython-autotime)\n",
            "  Using cached jedi-0.19.1-py2.py3-none-any.whl.metadata (22 kB)\n",
            "Requirement already satisfied: decorator in /usr/local/lib/python3.10/dist-packages (from ipython->ipython-autotime) (4.4.2)\n",
            "Requirement already satisfied: pickleshare in /usr/local/lib/python3.10/dist-packages (from ipython->ipython-autotime) (0.7.5)\n",
            "Requirement already satisfied: traitlets>=4.2 in /usr/local/lib/python3.10/dist-packages (from ipython->ipython-autotime) (5.7.1)\n",
            "Requirement already satisfied: prompt-toolkit!=3.0.0,!=3.0.1,<3.1.0,>=2.0.0 in /usr/local/lib/python3.10/dist-packages (from ipython->ipython-autotime) (3.0.47)\n",
            "Requirement already satisfied: pygments in /usr/local/lib/python3.10/dist-packages (from ipython->ipython-autotime) (2.16.1)\n",
            "Requirement already satisfied: backcall in /usr/local/lib/python3.10/dist-packages (from ipython->ipython-autotime) (0.2.0)\n",
            "Requirement already satisfied: matplotlib-inline in /usr/local/lib/python3.10/dist-packages (from ipython->ipython-autotime) (0.1.7)\n",
            "Requirement already satisfied: pexpect>4.3 in /usr/local/lib/python3.10/dist-packages (from ipython->ipython-autotime) (4.9.0)\n",
            "Requirement already satisfied: parso<0.9.0,>=0.8.3 in /usr/local/lib/python3.10/dist-packages (from jedi>=0.16->ipython->ipython-autotime) (0.8.4)\n",
            "Requirement already satisfied: ptyprocess>=0.5 in /usr/local/lib/python3.10/dist-packages (from pexpect>4.3->ipython->ipython-autotime) (0.7.0)\n",
            "Requirement already satisfied: wcwidth in /usr/local/lib/python3.10/dist-packages (from prompt-toolkit!=3.0.0,!=3.0.1,<3.1.0,>=2.0.0->ipython->ipython-autotime) (0.2.13)\n",
            "Downloading ipython_autotime-0.3.2-py2.py3-none-any.whl (7.0 kB)\n",
            "Using cached jedi-0.19.1-py2.py3-none-any.whl (1.6 MB)\n",
            "Installing collected packages: jedi, ipython-autotime\n",
            "Successfully installed ipython-autotime-0.3.2 jedi-0.19.1\n",
            "Requirement already satisfied: memory-profiler in /usr/local/lib/python3.10/dist-packages (0.61.0)\n",
            "Requirement already satisfied: psutil in /usr/local/lib/python3.10/dist-packages (from memory-profiler) (5.9.5)\n",
            "time: 5.04 s (started: 2024-08-18 03:18:20 +00:00)\n"
          ]
        }
      ],
      "source": [
        "\n",
        "import pandas as pd, numpy as np # For Data Manipulation\n",
        "from sklearn.preprocessing import LabelEncoder, OrdinalEncoder\n",
        "from sklearn.preprocessing import OneHotEncoder\n",
        "from sklearn.impute import SimpleImputer, KNNImputer\n",
        "from sklearn.preprocessing import StandardScaler, MinMaxScaler, RobustScaler\n",
        "from sklearn.model_selection import train_test_split\n",
        "from itertools import cycle, islice\n",
        "from sklearn.cluster import KMeans as kmclus # For K-Means Clustering\n",
        "from sklearn.metrics import silhouette_score as sscore, davies_bouldin_score as dbscore # For Clustering Model Evaluation\n",
        "from scipy.cluster.hierarchy import dendrogram, linkage\n",
        "import matplotlib.pyplot as plt, seaborn as sns # For Data Visualization\n",
        "from pandas.plotting import parallel_coordinates\n",
        "import scipy.cluster.hierarchy as sch # For Hierarchical Clustering\n",
        "from scipy.stats import f_oneway\n",
        "\n",
        "!pip install ipython-autotime\n",
        "%reload_ext autotime\n",
        "\n",
        "# Load IPython extension for memory profiling\n",
        "!pip install memory-profiler\n",
        "%reload_ext memory_profiler\n"
      ]
    },
    {
      "cell_type": "code",
      "execution_count": null,
      "metadata": {
        "colab": {
          "background_save": true
        },
        "id": "eqYIJZmmLlJT",
        "outputId": "c9845ebc-80f9-437c-9a3b-5e59e4ddad47"
      },
      "outputs": [
        {
          "ename": "ValueError",
          "evalue": "mount failed",
          "output_type": "error",
          "traceback": [
            "\u001b[0;31m---------------------------------------------------------------------------\u001b[0m",
            "\u001b[0;31mValueError\u001b[0m                                Traceback (most recent call last)",
            "\u001b[0;32m<ipython-input-3-0908f5a56395>\u001b[0m in \u001b[0;36m<cell line: 4>\u001b[0;34m()\u001b[0m\n\u001b[1;32m      2\u001b[0m \u001b[0;34m\u001b[0m\u001b[0m\n\u001b[1;32m      3\u001b[0m \u001b[0;31m# Mount Google Drive\u001b[0m\u001b[0;34m\u001b[0m\u001b[0;34m\u001b[0m\u001b[0m\n\u001b[0;32m----> 4\u001b[0;31m \u001b[0mdrive\u001b[0m\u001b[0;34m.\u001b[0m\u001b[0mmount\u001b[0m\u001b[0;34m(\u001b[0m\u001b[0;34m'/content/drive'\u001b[0m\u001b[0;34m)\u001b[0m\u001b[0;34m\u001b[0m\u001b[0;34m\u001b[0m\u001b[0m\n\u001b[0m",
            "\u001b[0;32m/usr/local/lib/python3.10/dist-packages/google/colab/drive.py\u001b[0m in \u001b[0;36mmount\u001b[0;34m(mountpoint, force_remount, timeout_ms, readonly)\u001b[0m\n\u001b[1;32m     98\u001b[0m \u001b[0;32mdef\u001b[0m \u001b[0mmount\u001b[0m\u001b[0;34m(\u001b[0m\u001b[0mmountpoint\u001b[0m\u001b[0;34m,\u001b[0m \u001b[0mforce_remount\u001b[0m\u001b[0;34m=\u001b[0m\u001b[0;32mFalse\u001b[0m\u001b[0;34m,\u001b[0m \u001b[0mtimeout_ms\u001b[0m\u001b[0;34m=\u001b[0m\u001b[0;36m120000\u001b[0m\u001b[0;34m,\u001b[0m \u001b[0mreadonly\u001b[0m\u001b[0;34m=\u001b[0m\u001b[0;32mFalse\u001b[0m\u001b[0;34m)\u001b[0m\u001b[0;34m:\u001b[0m\u001b[0;34m\u001b[0m\u001b[0;34m\u001b[0m\u001b[0m\n\u001b[1;32m     99\u001b[0m   \u001b[0;34m\"\"\"Mount your Google Drive at the specified mountpoint path.\"\"\"\u001b[0m\u001b[0;34m\u001b[0m\u001b[0;34m\u001b[0m\u001b[0m\n\u001b[0;32m--> 100\u001b[0;31m   return _mount(\n\u001b[0m\u001b[1;32m    101\u001b[0m       \u001b[0mmountpoint\u001b[0m\u001b[0;34m,\u001b[0m\u001b[0;34m\u001b[0m\u001b[0;34m\u001b[0m\u001b[0m\n\u001b[1;32m    102\u001b[0m       \u001b[0mforce_remount\u001b[0m\u001b[0;34m=\u001b[0m\u001b[0mforce_remount\u001b[0m\u001b[0;34m,\u001b[0m\u001b[0;34m\u001b[0m\u001b[0;34m\u001b[0m\u001b[0m\n",
            "\u001b[0;32m/usr/local/lib/python3.10/dist-packages/google/colab/drive.py\u001b[0m in \u001b[0;36m_mount\u001b[0;34m(mountpoint, force_remount, timeout_ms, ephemeral, readonly)\u001b[0m\n\u001b[1;32m    281\u001b[0m             \u001b[0;34m'https://research.google.com/colaboratory/faq.html#drive-timeout'\u001b[0m\u001b[0;34m\u001b[0m\u001b[0;34m\u001b[0m\u001b[0m\n\u001b[1;32m    282\u001b[0m         )\n\u001b[0;32m--> 283\u001b[0;31m       \u001b[0;32mraise\u001b[0m \u001b[0mValueError\u001b[0m\u001b[0;34m(\u001b[0m\u001b[0;34m'mount failed'\u001b[0m \u001b[0;34m+\u001b[0m \u001b[0mextra_reason\u001b[0m\u001b[0;34m)\u001b[0m\u001b[0;34m\u001b[0m\u001b[0;34m\u001b[0m\u001b[0m\n\u001b[0m\u001b[1;32m    284\u001b[0m     \u001b[0;32melif\u001b[0m \u001b[0mcase\u001b[0m \u001b[0;34m==\u001b[0m \u001b[0;36m4\u001b[0m\u001b[0;34m:\u001b[0m\u001b[0;34m\u001b[0m\u001b[0;34m\u001b[0m\u001b[0m\n\u001b[1;32m    285\u001b[0m       \u001b[0;31m# Terminate the DriveFS binary before killing bash.\u001b[0m\u001b[0;34m\u001b[0m\u001b[0;34m\u001b[0m\u001b[0m\n",
            "\u001b[0;31mValueError\u001b[0m: mount failed"
          ]
        },
        {
          "name": "stdout",
          "output_type": "stream",
          "text": [
            "time: 2min 1s (started: 2024-08-18 03:18:25 +00:00)\n"
          ]
        }
      ],
      "source": [
        "from google.colab import drive\n",
        "\n",
        "# Mount Google Drive\n",
        "drive.mount('/content/drive')"
      ]
    },
    {
      "cell_type": "code",
      "execution_count": null,
      "metadata": {
        "colab": {
          "background_save": true
        },
        "id": "e-IqsAk6LkVD"
      },
      "outputs": [],
      "source": [
        "#Display All Columns of Dataset\n",
        "pd.set_option('display.max_columns', None)"
      ]
    },
    {
      "cell_type": "code",
      "execution_count": null,
      "metadata": {
        "colab": {
          "background_save": true
        },
        "id": "WxdS8JMhI98j"
      },
      "outputs": [],
      "source": [
        "from memory_profiler import memory_usage\n",
        "import time\n",
        "\n",
        "# Track start time\n",
        "start_time = time.time()\n",
        "\n",
        "# Track initial memory usage\n",
        "initial_memory = memory_usage()[0]"
      ]
    },
    {
      "cell_type": "code",
      "execution_count": null,
      "metadata": {
        "colab": {
          "background_save": true
        },
        "id": "EIe6DHpELo47"
      },
      "outputs": [],
      "source": [
        "import pandas as pd\n",
        "\n",
        "# Provide the path to your CSV file\n",
        "file_path = '/content/drive/MyDrive/male_players_football.csv'\n",
        "\n",
        "# Read the CSV file into a DataFrame\n",
        "data = pd.read_csv(file_path)"
      ]
    },
    {
      "cell_type": "code",
      "execution_count": null,
      "metadata": {
        "colab": {
          "background_save": true
        },
        "id": "pvWxsUrrHH3-"
      },
      "outputs": [],
      "source": [
        "data"
      ]
    },
    {
      "cell_type": "code",
      "execution_count": null,
      "metadata": {
        "colab": {
          "background_save": true
        },
        "id": "6YyGTWo9bQn1"
      },
      "outputs": [],
      "source": [
        "data.info()"
      ]
    },
    {
      "cell_type": "code",
      "execution_count": null,
      "metadata": {
        "colab": {
          "background_save": true
        },
        "id": "-gKaaz-2bQkX"
      },
      "outputs": [],
      "source": [
        "data.shape"
      ]
    },
    {
      "cell_type": "markdown",
      "metadata": {
        "id": "iQbZw-Ja-EYV"
      },
      "source": [
        "Data Sampling"
      ]
    },
    {
      "cell_type": "code",
      "execution_count": null,
      "metadata": {
        "colab": {
          "background_save": true
        },
        "id": "n-i3d2h586yg"
      },
      "outputs": [],
      "source": [
        "#Data Sampling\n",
        "sdata = data.sample(\n",
        "    frac=0.16,\n",
        "    replace=False,\n",
        "    random_state=1234,\n",
        "    )\n",
        "sdata"
      ]
    },
    {
      "cell_type": "markdown",
      "metadata": {
        "id": "tZ_D-PipRlHj"
      },
      "source": [
        "Adding an index variable to the dataset"
      ]
    },
    {
      "cell_type": "code",
      "execution_count": null,
      "metadata": {
        "colab": {
          "background_save": true
        },
        "id": "bVALc9YXYSeM"
      },
      "outputs": [],
      "source": [
        "# Setting default numerical index automatically\n",
        "sdata.reset_index(drop=True, inplace=True)\n",
        "\n",
        "# Setting the new index\n",
        "sdata.set_index('player_id', inplace=True)\n",
        "\n",
        "# Renaming the index\n",
        "sdata.index.name = 'index'\n",
        "\n",
        "sdata\n"
      ]
    },
    {
      "cell_type": "code",
      "execution_count": null,
      "metadata": {
        "colab": {
          "background_save": true
        },
        "id": "bWEwgNBV_Oyk"
      },
      "outputs": [],
      "source": [
        "sdata.columns.tolist()"
      ]
    },
    {
      "cell_type": "code",
      "execution_count": null,
      "metadata": {
        "colab": {
          "background_save": true
        },
        "id": "mP847tUYbQh3"
      },
      "outputs": [],
      "source": [
        "df = sdata.drop([\n",
        " 'player_url',\n",
        " 'fifa_update_date',\n",
        " 'short_name',\n",
        " 'player_positions',\n",
        " 'long_name',\n",
        " 'dob',\n",
        " 'league_name',\n",
        " 'club_name',\n",
        " 'club_loaned_from',\n",
        " 'club_joined_date',\n",
        " 'club_contract_valid_until_year',\n",
        " 'nationality_name',\n",
        " 'nation_position',\n",
        " 'nation_jersey_number',\n",
        " 'real_face',\n",
        " 'release_clause_eur',\n",
        " 'player_tags',\n",
        " 'player_traits',\n",
        " 'ls',\n",
        " 'st',\n",
        " 'rs',\n",
        " 'lw',\n",
        " 'lf',\n",
        " 'cf',\n",
        " 'rf',\n",
        " 'rw',\n",
        " 'lam',\n",
        " 'cam',\n",
        " 'ram',\n",
        " 'lm',\n",
        " 'lcm',\n",
        " 'cm',\n",
        " 'rcm',\n",
        " 'rm',\n",
        " 'lwb',\n",
        " 'ldm',\n",
        " 'cdm',\n",
        " 'rdm',\n",
        " 'rwb',\n",
        " 'lb',\n",
        " 'lcb',\n",
        " 'cb',\n",
        " 'rcb',\n",
        " 'rb',\n",
        " 'gk',\n",
        " 'player_face_url'], axis=1)"
      ]
    },
    {
      "cell_type": "code",
      "execution_count": null,
      "metadata": {
        "colab": {
          "background_save": true
        },
        "id": "jky5Wvp_bQfI"
      },
      "outputs": [],
      "source": [
        "df.info()"
      ]
    },
    {
      "cell_type": "code",
      "execution_count": null,
      "metadata": {
        "colab": {
          "background_save": true
        },
        "id": "chVikzApCvRm"
      },
      "outputs": [],
      "source": [
        "df.shape"
      ]
    },
    {
      "cell_type": "code",
      "execution_count": null,
      "metadata": {
        "colab": {
          "background_save": true
        },
        "id": "c6a7FLiNi6b8"
      },
      "outputs": [],
      "source": [
        "df"
      ]
    },
    {
      "cell_type": "code",
      "execution_count": null,
      "metadata": {
        "colab": {
          "background_save": true
        },
        "id": "FMu-CEqHDeWX"
      },
      "outputs": [],
      "source": [
        "df.columns"
      ]
    },
    {
      "cell_type": "code",
      "execution_count": null,
      "metadata": {
        "colab": {
          "background_save": true
        },
        "id": "HKB7NF2pGob_"
      },
      "outputs": [],
      "source": [
        "df['pace'].nunique()"
      ]
    },
    {
      "cell_type": "code",
      "execution_count": null,
      "metadata": {
        "colab": {
          "background_save": true
        },
        "id": "1FgYlqrBbQVe"
      },
      "outputs": [],
      "source": [
        "# Categorical Variables:\n",
        "df_cat = df[[\n",
        "       'fifa_version', 'league_id', 'league_level',\n",
        "       'club_team_id', 'club_position', 'nationality_id',\n",
        "       'nation_team_id', 'preferred_foot', 'weak_foot',\n",
        "       'skill_moves', 'international_reputation',\n",
        "       'work_rate', 'body_type'\n",
        "]]\n",
        "\n",
        "# Non-Categorical Variables:\n",
        "df_noncat = df[[ 'fifa_update',\n",
        "       'overall', 'potential', 'value_eur', 'wage_eur', 'age', 'height_cm',\n",
        "       'weight_kg', 'club_jersey_number', 'pace',\n",
        "       'shooting', 'passing', 'dribbling', 'defending', 'physic',\n",
        "       'attacking_crossing', 'attacking_finishing',\n",
        "       'attacking_heading_accuracy', 'attacking_short_passing',\n",
        "       'attacking_volleys', 'skill_dribbling', 'skill_curve',\n",
        "       'skill_fk_accuracy', 'skill_long_passing', 'skill_ball_control',\n",
        "       'movement_acceleration', 'movement_sprint_speed', 'movement_agility',\n",
        "       'movement_reactions', 'movement_balance', 'power_shot_power',\n",
        "       'power_jumping', 'power_stamina', 'power_strength', 'power_long_shots',\n",
        "       'mentality_aggression', 'mentality_interceptions',\n",
        "       'mentality_positioning', 'mentality_vision', 'mentality_penalties',\n",
        "       'mentality_composure', 'defending_marking_awareness',\n",
        "       'defending_standing_tackle', 'defending_sliding_tackle',\n",
        "       'goalkeeping_diving', 'goalkeeping_handling', 'goalkeeping_kicking',\n",
        "       'goalkeeping_positioning', 'goalkeeping_reflexes', 'goalkeeping_speed'\n",
        "       ]]\n"
      ]
    },
    {
      "cell_type": "code",
      "execution_count": null,
      "metadata": {
        "colab": {
          "background_save": true
        },
        "id": "yQ05heYdbQcq"
      },
      "outputs": [],
      "source": [
        "df.describe()"
      ]
    },
    {
      "cell_type": "code",
      "execution_count": null,
      "metadata": {
        "colab": {
          "background_save": true
        },
        "id": "Lgzo8ngacD5y"
      },
      "outputs": [],
      "source": [
        "# Dataframe used: df_cat\n",
        "\n",
        "# Creating an empty DataFrame to store results\n",
        "cat_stats_df = pd.DataFrame(columns=['Variable', 'Category', 'Count', 'Frequency'])\n",
        "\n",
        "# Iterating through each categorical variable\n",
        "for var in df_cat.columns:\n",
        "    # Counting occurrences of each category\n",
        "    cat_count = df_cat[var].value_counts().reset_index()\n",
        "    cat_count.columns = ['Category', 'Count']\n",
        "\n",
        "    # Calculating frequency of each category\n",
        "    cat_count['Frequency'] = cat_count['Count'] / cat_count['Count'].sum()\n",
        "\n",
        "    # Adding variable name to the DataFrame\n",
        "    cat_count['Variable'] = var\n",
        "\n",
        "    # Appending results to the main DataFrame using pd.concat()\n",
        "    cat_stats_df = pd.concat([cat_stats_df, cat_count], ignore_index=True)\n",
        "\n",
        "# Displaying the DataFrame\n",
        "print(cat_stats_df)"
      ]
    },
    {
      "cell_type": "markdown",
      "metadata": {
        "id": "7o36SZwz9m6b"
      },
      "source": [
        "DATA PRE-PROCESSING"
      ]
    },
    {
      "cell_type": "code",
      "execution_count": null,
      "metadata": {
        "colab": {
          "background_save": true
        },
        "id": "9PrnNh8RbQSO"
      },
      "outputs": [],
      "source": [
        "# Missing Data Information\n",
        "\n",
        "variable_missing_data = df.isna().sum(); variable_missing_data # Variable-wise Missing Data Information"
      ]
    },
    {
      "cell_type": "code",
      "execution_count": null,
      "metadata": {
        "colab": {
          "background_save": true
        },
        "id": "LG3Zd5gzbQPV"
      },
      "outputs": [],
      "source": [
        "# Record-wise Missing Data Information (Top 5) (row-wise)\n",
        "\n",
        "record_missing_data = df.isna().sum(axis=1).sort_values(ascending=False).head(5); record_missing_data\n"
      ]
    },
    {
      "cell_type": "code",
      "execution_count": null,
      "metadata": {
        "colab": {
          "background_save": true
        },
        "id": "pARLyWKVbQL2"
      },
      "outputs": [],
      "source": [
        "\n",
        "# Impute Missing Categorical Data [Nominal | Ordinal] using Descriptive Satatistics : Central Tendency (Mode)\n",
        "\n",
        "# Dataset Used : df_cat\n",
        "\n",
        "si_cat = SimpleImputer(missing_values=np.nan, strategy='most_frequent') # Strategy = median [When Odd Number of Categories Exists]\n",
        "si_cat_fit = si_cat.fit_transform(df_cat)\n",
        "df_cat_mdi = pd.DataFrame(si_cat_fit, columns=df_cat.columns); df_cat_mdi # Missing Categorical Data Imputed Subset\n",
        "df_cat_mdi.info()\n"
      ]
    },
    {
      "cell_type": "code",
      "execution_count": null,
      "metadata": {
        "colab": {
          "background_save": true
        },
        "id": "p5EEhDOlbQGa"
      },
      "outputs": [],
      "source": [
        "# Impute Missing Non-Categorical Data using Descriptive Statistics : Central Tendency\n",
        "\n",
        "# Dataset Used : df_noncat\n",
        "\n",
        "si_noncat = SimpleImputer(missing_values=np.nan, strategy='most_frequent') # Other Strategy : mean | median | most_frequent | constant\n",
        "si_noncat_fit = si_noncat.fit_transform(df_noncat)\n",
        "df_noncat_mdi_si = pd.DataFrame(si_noncat_fit, columns=df_noncat.columns); df_noncat_mdi_si # Missing Non-Categorical Data Imputed Subset using Simple Imputer\n",
        "df_noncat_mdi_si.info()\n"
      ]
    },
    {
      "cell_type": "code",
      "execution_count": null,
      "metadata": {
        "colab": {
          "background_save": true
        },
        "id": "VR_XbRxJak7P"
      },
      "outputs": [],
      "source": [
        "print(df_noncat_mdi_si.isnull().sum())"
      ]
    },
    {
      "cell_type": "code",
      "execution_count": null,
      "metadata": {
        "colab": {
          "background_save": true
        },
        "id": "fOJiNgulbQBz"
      },
      "outputs": [],
      "source": [
        "# Missing Data Exclusion [MCAR | MAR (> 50%)]\n",
        "\n",
        "# Dataset Used : df_cat_mdi | df_noncat_mdi_si | df_noncat_mdi_ki\n",
        "\n",
        "# Excluding Empty Records (If Any)\n",
        "df_cat_mdi.dropna(axis=0, how='all', inplace=True) # Categorical Data Subset\n",
        "df_noncat_mdi_si.dropna(axis=0, how='all', inplace=True) # Non-Categorical Data Subset\n",
        "\n",
        "# Excluding Empty Variables (If Any)\n",
        "df_cat_mdi.dropna(axis=1, how='all', inplace=True) # Categorical Data Subset\n",
        "df_noncat_mdi_si.dropna(axis=1, how='all', inplace=True) # Non-Categorical Data Subset\n",
        "\n",
        "df_cat_mdt = df_cat_mdi.copy() # Missing Categorical Treated Dataset\n",
        "df_noncat_mdt = df_noncat_mdi_si.copy() # Missing Non-Categorical Treated Dataset\n"
      ]
    },
    {
      "cell_type": "code",
      "execution_count": null,
      "metadata": {
        "colab": {
          "background_save": true
        },
        "id": "z0ouadJgKNH1"
      },
      "outputs": [],
      "source": [
        "df_cat_mdt"
      ]
    },
    {
      "cell_type": "code",
      "execution_count": null,
      "metadata": {
        "colab": {
          "background_save": true
        },
        "id": "nrCrAIR-J_IM"
      },
      "outputs": [],
      "source": [
        "df_cat_mdt.columns"
      ]
    },
    {
      "cell_type": "code",
      "execution_count": null,
      "metadata": {
        "colab": {
          "background_save": true
        },
        "id": "LtGZX-zmbP_m"
      },
      "outputs": [],
      "source": [
        "# Numeric Encoding of Categorical Data\n",
        "\n",
        "# Dataset Used : df_cat_mdt\n",
        "df_cat_mdt_code = df_cat_mdt.copy()\n",
        "\n",
        "# Using Scikit Learn : Ordinal Encoder (Superior)\n",
        "oe = OrdinalEncoder()\n",
        "oe_fit = oe.fit_transform(df_cat_mdt_code)\n",
        "column_names = [\n",
        "       'fifa_version_oe', 'league_id_oe', 'league_level_oe', 'club_team_id_oe',\n",
        "       'club_position_oe', 'nationality_id_oe', 'nation_team_id_oe', 'preferred_foot_oe',\n",
        "       'weak_foot_oe', 'skill_moves_oe', 'international_reputation_oe', 'work_rate_oe',\n",
        "       'body_type_oe'\n",
        "       ]\n",
        "df_cat_code_oe = pd.DataFrame(oe_fit, columns=column_names);\n",
        "\n",
        "df_cat_mdt_code_oe = pd.concat([df_cat_mdt_code, df_cat_code_oe], axis=1)\n",
        "df_cat_mdt_code_oe # (Missing Data Treated) Numeric Coded Categorical Dataset using Scikit Learn Ordinal Encoder\n"
      ]
    },
    {
      "cell_type": "code",
      "execution_count": null,
      "metadata": {
        "colab": {
          "background_save": true
        },
        "id": "5Ro6u1DVPJKS"
      },
      "outputs": [],
      "source": [
        "df_cat_mdt_code_oe.columns"
      ]
    },
    {
      "cell_type": "code",
      "execution_count": null,
      "metadata": {
        "colab": {
          "background_save": true
        },
        "id": "Ea3MIc9UPO0K"
      },
      "outputs": [],
      "source": [
        "df_cat_mdt_code_oe1 = df_cat_mdt_code_oe.drop([\n",
        "       'fifa_version_oe', 'league_id_oe', 'league_level_oe', 'club_team_id_oe',\n",
        "       'preferred_foot', 'club_position', 'nationality_id_oe', 'nation_team_id_oe',\n",
        "       'weak_foot_oe', 'skill_moves_oe', 'international_reputation_oe', 'work_rate', 'body_type',\n",
        "       ], axis = 1)"
      ]
    },
    {
      "cell_type": "code",
      "execution_count": null,
      "metadata": {
        "colab": {
          "background_save": true
        },
        "id": "rfRZEP5EXGQ3"
      },
      "outputs": [],
      "source": [
        "df_cat_mdt_code_oe1"
      ]
    },
    {
      "cell_type": "code",
      "execution_count": null,
      "metadata": {
        "colab": {
          "background_save": true
        },
        "id": "W5TJoNPmR1TV"
      },
      "outputs": [],
      "source": [
        "df_noncat_mdt"
      ]
    },
    {
      "cell_type": "code",
      "execution_count": null,
      "metadata": {
        "colab": {
          "background_save": true
        },
        "id": "u8FVTdcFTCXz"
      },
      "outputs": [],
      "source": [
        "df_noncat_mdt.columns"
      ]
    },
    {
      "cell_type": "code",
      "execution_count": null,
      "metadata": {
        "colab": {
          "background_save": true
        },
        "id": "hg1DCj81bP6i"
      },
      "outputs": [],
      "source": [
        "from sklearn.preprocessing import MinMaxScaler\n",
        "\n",
        "# List of columns to normalize\n",
        "columns_to_normalize = [\n",
        "       'overall', 'potential', 'value_eur',\n",
        "       'wage_eur', 'height_cm', 'weight_kg',\n",
        "       'pace', 'shooting', 'passing', 'dribbling', 'defending', 'physic',\n",
        "       'attacking_crossing', 'attacking_finishing',\n",
        "       'attacking_heading_accuracy', 'attacking_short_passing',\n",
        "       'attacking_volleys', 'skill_dribbling', 'skill_curve',\n",
        "       'skill_fk_accuracy', 'skill_long_passing', 'skill_ball_control',\n",
        "       'movement_acceleration', 'movement_sprint_speed', 'movement_agility',\n",
        "       'movement_reactions', 'movement_balance', 'power_shot_power',\n",
        "       'power_jumping', 'power_stamina', 'power_strength', 'power_long_shots',\n",
        "       'mentality_aggression', 'mentality_interceptions',\n",
        "       'mentality_positioning', 'mentality_vision', 'mentality_penalties',\n",
        "       'mentality_composure', 'defending_marking_awareness',\n",
        "       'defending_standing_tackle', 'defending_sliding_tackle',\n",
        "       'goalkeeping_diving', 'goalkeeping_handling', 'goalkeeping_kicking',\n",
        "       'goalkeeping_positioning', 'goalkeeping_reflexes', 'goalkeeping_speed'\n",
        "       ]\n",
        "\n",
        "# Normalization: Min-Max Scaling\n",
        "mms = MinMaxScaler()\n",
        "df_noncat_mdt_mmn = df_noncat_mdt.copy()  # Create a copy of the DataFrame\n",
        "\n",
        "for column_name in columns_to_normalize:\n",
        "    mms_fit = mms.fit_transform(df_noncat_mdt[[column_name]])\n",
        "    normalized_column_name = f'{column_name}_mmnorm'\n",
        "    df_noncat_minmax_norm = pd.DataFrame(mms_fit, columns=[normalized_column_name])\n",
        "    df_noncat_mdt_mmn = df_noncat_mdt_mmn.join(df_noncat_minmax_norm)\n",
        "\n",
        "# Display the DataFrame with Min-Max normalized values\n",
        "df_noncat_mdt_mmn\n"
      ]
    },
    {
      "cell_type": "code",
      "execution_count": null,
      "metadata": {
        "colab": {
          "background_save": true
        },
        "id": "qQAL448BVTrH"
      },
      "outputs": [],
      "source": [
        "df_noncat_mdt_mmn.columns"
      ]
    },
    {
      "cell_type": "code",
      "execution_count": null,
      "metadata": {
        "colab": {
          "background_save": true
        },
        "id": "BEB61KVPVbmJ"
      },
      "outputs": [],
      "source": [
        "df_noncat_mdt_mmn1 = df_noncat_mdt_mmn.drop([      'overall', 'potential', 'value_eur',\n",
        "       'wage_eur', 'height_cm', 'weight_kg',\n",
        "       'pace', 'shooting', 'passing', 'dribbling', 'defending', 'physic',\n",
        "       'attacking_crossing', 'attacking_finishing',\n",
        "       'attacking_heading_accuracy', 'attacking_short_passing',\n",
        "       'attacking_volleys', 'skill_dribbling', 'skill_curve',\n",
        "       'skill_fk_accuracy', 'skill_long_passing', 'skill_ball_control',\n",
        "       'movement_acceleration', 'movement_sprint_speed', 'movement_agility',\n",
        "       'movement_reactions', 'movement_balance', 'power_shot_power',\n",
        "       'power_jumping', 'power_stamina', 'power_strength', 'power_long_shots',\n",
        "       'mentality_aggression', 'mentality_interceptions',\n",
        "       'mentality_positioning', 'mentality_vision', 'mentality_penalties',\n",
        "       'mentality_composure', 'defending_marking_awareness',\n",
        "       'defending_standing_tackle', 'defending_sliding_tackle',\n",
        "       'goalkeeping_diving', 'goalkeeping_handling', 'goalkeeping_kicking',\n",
        "       'goalkeeping_positioning', 'goalkeeping_reflexes', 'goalkeeping_speed'\n",
        "], axis = 1)"
      ]
    },
    {
      "cell_type": "code",
      "execution_count": null,
      "metadata": {
        "colab": {
          "background_save": true
        },
        "id": "_Z1ftQqZXSM0"
      },
      "outputs": [],
      "source": [
        "df_noncat_mdt_mmn1"
      ]
    },
    {
      "cell_type": "code",
      "execution_count": null,
      "metadata": {
        "colab": {
          "background_save": true
        },
        "id": "TlTrI7KObP3X"
      },
      "outputs": [],
      "source": [
        "# Pre-Processed Categorical Data Subset\n",
        "df_cat_ppd = df_cat_mdt_code_oe1.copy(); df_cat_ppd # Preferred Data Subset"
      ]
    },
    {
      "cell_type": "code",
      "execution_count": null,
      "metadata": {
        "colab": {
          "background_save": true
        },
        "id": "49xANzJ9d0dQ"
      },
      "outputs": [],
      "source": [
        "# Pre-Processed Non-Categorical Data Subset\n",
        "df_noncat_ppd = df_noncat_mdt_mmn1.copy(); df_noncat_ppd # Preferred Data Subset"
      ]
    },
    {
      "cell_type": "code",
      "execution_count": null,
      "metadata": {
        "colab": {
          "background_save": true
        },
        "id": "62sDaDVxdqVD"
      },
      "outputs": [],
      "source": [
        "# Pre-Processed Dataset\n",
        "df_ppd = pd.merge(df_cat_ppd, df_noncat_ppd, left_index=True, right_index=True)\n",
        "df_ppd"
      ]
    },
    {
      "cell_type": "code",
      "execution_count": null,
      "metadata": {
        "colab": {
          "background_save": true
        },
        "id": "u1r0fWv5TFVQ"
      },
      "outputs": [],
      "source": [
        "df_ppd.info()"
      ]
    },
    {
      "cell_type": "code",
      "execution_count": null,
      "metadata": {
        "colab": {
          "background_save": true
        },
        "id": "ZeK4e6OXUYJG"
      },
      "outputs": [],
      "source": [
        "df_ppd.columns"
      ]
    },
    {
      "cell_type": "code",
      "execution_count": null,
      "metadata": {
        "colab": {
          "background_save": true
        },
        "id": "I9HOBdOrbP1G"
      },
      "outputs": [],
      "source": [
        "df1 = df_ppd.copy()"
      ]
    },
    {
      "cell_type": "code",
      "execution_count": null,
      "metadata": {
        "colab": {
          "background_save": true
        },
        "id": "ldGxUo35cCLx"
      },
      "outputs": [],
      "source": [
        "df1.columns"
      ]
    },
    {
      "cell_type": "code",
      "execution_count": null,
      "metadata": {
        "colab": {
          "background_save": true
        },
        "id": "cMYaFSSRdc4U"
      },
      "outputs": [],
      "source": [
        "\n",
        "# Track final memory usage\n",
        "final_memory = memory_usage()[0]\n",
        "\n",
        "# Calculate elapsed time\n",
        "elapsed_time = time.time() - start_time\n",
        "\n",
        "# Print total time taken and total memory used\n",
        "print(f\"Total time taken: {elapsed_time} seconds\")\n",
        "\n",
        "# Track end time and final memory usage\n",
        "end_time = time.time()\n",
        "final_memory = memory_usage()[0]\n",
        "\n",
        "# Calculate elapsed time and memory used\n",
        "elapsed_time = end_time - start_time\n",
        "memory_used = final_memory - initial_memory\n",
        "\n",
        "print(f\"Elapsed time: {elapsed_time} seconds\")\n",
        "print(f\"Memory used: {memory_used} MiB\")\n"
      ]
    },
    {
      "cell_type": "code",
      "execution_count": null,
      "metadata": {
        "colab": {
          "background_save": true
        },
        "id": "-69ovUMod2qM"
      },
      "outputs": [],
      "source": [
        "from memory_profiler import memory_usage\n",
        "import time\n",
        "\n",
        "# Track start time\n",
        "start_time = time.time()\n",
        "\n",
        "# Track initial memory usage\n",
        "initial_memory = memory_usage()[0]"
      ]
    },
    {
      "cell_type": "code",
      "execution_count": null,
      "metadata": {
        "colab": {
          "background_save": true
        },
        "id": "N6-oTfNasSy0"
      },
      "outputs": [],
      "source": [
        "wcssd = [] # Within-Cluster-Sum-Squared-Distance\n",
        "nr_clus = range(1,11) # Number of Clusters\n",
        "for k in nr_clus:\n",
        "    kmeans = kmclus(n_clusters=k, init='random', random_state=111)\n",
        "    kmeans.fit(df1)\n",
        "    wcssd.append(kmeans.inertia_)\n",
        "plt.plot(nr_clus, wcssd, marker='x')\n",
        "plt.xlabel('Values of K')\n",
        "plt.ylabel('Within Cluster Sum Squared Distance')\n",
        "plt.title('Elbow Curve for Optimal K')\n",
        "plt.show()"
      ]
    },
    {
      "cell_type": "code",
      "execution_count": null,
      "metadata": {
        "colab": {
          "background_save": true
        },
        "id": "I5wN2H0vd4Qn"
      },
      "outputs": [],
      "source": [
        "# Create K-Means Clusters [K=2]\n",
        "km_2cluster = kmclus(n_clusters=2, init='random', random_state=333)\n",
        "df1['Cluster_Label'] = km_2cluster.fit_predict(df1)\n",
        "km_2cluster_model = df1['Cluster_Label'].values\n",
        "km_2cluster_model"
      ]
    },
    {
      "cell_type": "code",
      "execution_count": null,
      "metadata": {
        "colab": {
          "background_save": true
        },
        "id": "wsdmz5R_liKh"
      },
      "outputs": [],
      "source": [
        "# K-Means Clustering Model Evaluation [K=2]\n",
        "# ------------------------------------------------------\n",
        "\n",
        "sscore_km_2cluster = sscore(df1, km_2cluster_model)\n",
        "dbscore_km_2cluster = dbscore(df1, km_2cluster_model);\n",
        "%memit\n",
        "print(f\"Davies-Bouldin Index for 2 clusters: {dbscore_km_2cluster}\")\n",
        "print(f\"Silhouette Score for 2 clusters: {sscore_km_2cluster}\")"
      ]
    },
    {
      "cell_type": "markdown",
      "metadata": {
        "id": "yRBT4RBEVfgt"
      },
      "source": [
        "ANOVA"
      ]
    },
    {
      "cell_type": "code",
      "execution_count": null,
      "metadata": {
        "colab": {
          "background_save": true
        },
        "id": "JNR8-dStfmjY"
      },
      "outputs": [],
      "source": [
        "df_noncat_ppd.columns"
      ]
    },
    {
      "cell_type": "code",
      "execution_count": null,
      "metadata": {
        "colab": {
          "background_save": true
        },
        "id": "Y1LWDVLlltFN"
      },
      "outputs": [],
      "source": [
        "import pandas as pd\n",
        "from scipy.stats import f_oneway\n",
        "from sklearn.cluster import KMeans\n",
        "\n",
        "# Assuming 'km_2cluster_model' is the cluster labels obtained from KMeans clustering\n",
        "\n",
        "# Joining cluster labels with the original dataset\n",
        "df_with_clusters = df1.copy()\n",
        "df_with_clusters['Cluster_Label'] = km_2cluster_model\n",
        "\n",
        "# Extracting non-categorical variables\n",
        "non_cat_variables = [\n",
        "       'fifa_update', 'age', 'club_jersey_number', 'overall_mmnorm',\n",
        "       'potential_mmnorm', 'value_eur_mmnorm', 'wage_eur_mmnorm',\n",
        "       'height_cm_mmnorm', 'weight_kg_mmnorm', 'pace_mmnorm',\n",
        "       'shooting_mmnorm', 'passing_mmnorm', 'dribbling_mmnorm',\n",
        "       'defending_mmnorm', 'physic_mmnorm', 'attacking_crossing_mmnorm',\n",
        "       'attacking_finishing_mmnorm', 'attacking_heading_accuracy_mmnorm',\n",
        "       'attacking_short_passing_mmnorm', 'attacking_volleys_mmnorm',\n",
        "       'skill_dribbling_mmnorm', 'skill_curve_mmnorm',\n",
        "       'skill_fk_accuracy_mmnorm', 'skill_long_passing_mmnorm',\n",
        "       'skill_ball_control_mmnorm', 'movement_acceleration_mmnorm',\n",
        "       'movement_sprint_speed_mmnorm', 'movement_agility_mmnorm',\n",
        "       'movement_reactions_mmnorm', 'movement_balance_mmnorm',\n",
        "       'power_shot_power_mmnorm', 'power_jumping_mmnorm',\n",
        "       'power_stamina_mmnorm', 'power_strength_mmnorm',\n",
        "       'power_long_shots_mmnorm', 'mentality_aggression_mmnorm',\n",
        "       'mentality_interceptions_mmnorm', 'mentality_positioning_mmnorm',\n",
        "       'mentality_vision_mmnorm', 'mentality_penalties_mmnorm',\n",
        "       'mentality_composure_mmnorm', 'defending_marking_awareness_mmnorm',\n",
        "       'defending_standing_tackle_mmnorm', 'defending_sliding_tackle_mmnorm',\n",
        "       'goalkeeping_diving_mmnorm', 'goalkeeping_handling_mmnorm',\n",
        "       'goalkeeping_kicking_mmnorm', 'goalkeeping_positioning_mmnorm',\n",
        "       'goalkeeping_reflexes_mmnorm', 'goalkeeping_speed_mmnorm'\n",
        "]\n",
        "\n",
        "# Grouping variables by cluster label\n",
        "cluster_groups = df_with_clusters.groupby('Cluster_Label')\n",
        "\n",
        "# Perform ANOVA for each non-categorical variable\n",
        "anova_results_non_cat = {}\n",
        "for column in non_cat_variables:\n",
        "    try:\n",
        "        anova_results_non_cat[column] = f_oneway(*[group[column] for name, group in cluster_groups])\n",
        "    except KeyError:\n",
        "        print(f\"Error: '{column}' not found in the DataFrame.\")\n",
        "\n",
        "# Print ANOVA results for non-categorical variables\n",
        "for column, result in anova_results_non_cat.items():\n",
        "    print(f\"Variable: {column}\")\n",
        "    print(f\"F-value: {result.statistic}\")\n",
        "    print(f\"P-value: {result.pvalue}\")\n",
        "    print()\n"
      ]
    },
    {
      "cell_type": "markdown",
      "metadata": {
        "id": "DFCwdO6pVnCV"
      },
      "source": [
        "Chi-square Test"
      ]
    },
    {
      "cell_type": "code",
      "execution_count": null,
      "metadata": {
        "colab": {
          "background_save": true
        },
        "id": "du1pQaB7f5RF"
      },
      "outputs": [],
      "source": [
        "df_cat_ppd.columns"
      ]
    },
    {
      "cell_type": "code",
      "execution_count": null,
      "metadata": {
        "colab": {
          "background_save": true
        },
        "id": "HZRIiNQ3mj-C"
      },
      "outputs": [],
      "source": [
        "from scipy.stats import chi2_contingency\n",
        "\n",
        "# Extracting categorical variables\n",
        "cat_variables = ['fifa_version', 'league_id', 'league_level', 'club_team_id',\n",
        "       'nationality_id', 'nation_team_id', 'weak_foot', 'skill_moves',\n",
        "       'international_reputation', 'club_position_oe', 'preferred_foot_oe',\n",
        "       'work_rate_oe', 'body_type_oe']\n",
        "\n",
        "# Perform Chi-square test for each categorical variable\n",
        "chi2_results_cat = {}\n",
        "for column in cat_variables:\n",
        "    contingency_table = pd.crosstab(df_with_clusters[column], km_2cluster_model)\n",
        "    chi2, p_value, _, _ = chi2_contingency(contingency_table)\n",
        "    chi2_results_cat[column] = {'Chi-square': chi2, 'P-value': p_value}\n",
        "\n",
        "# Print Chi-square test results for categorical variables\n",
        "for column, result in chi2_results_cat.items():\n",
        "    print(f\"Variable: {column}\")\n",
        "    print(f\"Chi-square: {result['Chi-square']}\")\n",
        "    print(f\"P-value: {result['P-value']}\")\n",
        "    print()\n"
      ]
    },
    {
      "cell_type": "markdown",
      "metadata": {
        "id": "OOb2dmEFVrTe"
      },
      "source": [
        "Centricity"
      ]
    },
    {
      "cell_type": "code",
      "execution_count": null,
      "metadata": {
        "colab": {
          "background_save": true
        },
        "id": "xaJRrL5Hm0oq"
      },
      "outputs": [],
      "source": [
        "# Get the cluster centers\n",
        "cluster_centers = km_2cluster.cluster_centers_\n",
        "\n",
        "# Convert cluster_centers to a DataFrame\n",
        "centroids_df = pd.DataFrame(cluster_centers, columns=df1.columns[:-1])\n",
        "\n",
        "# Display the centroids of clusters\n",
        "centroids_df\n"
      ]
    },
    {
      "cell_type": "markdown",
      "metadata": {
        "id": "WSFqkdRNV12k"
      },
      "source": [
        "Descriptive Statistics for 2 cluster model"
      ]
    },
    {
      "cell_type": "code",
      "execution_count": null,
      "metadata": {
        "colab": {
          "background_save": true
        },
        "id": "ASHV7UEBm8PW"
      },
      "outputs": [],
      "source": [
        "df1['Cluster_Label'] = km_2cluster_model\n",
        "\n",
        "# Calculate cluster-wise descriptive statistics\n",
        "cluster_stats = df1.groupby('Cluster_Label').describe()\n",
        "\n",
        "# Variables of interest\n",
        "variables_of_interest = [\n",
        "       'age', 'club_jersey_number', 'overall_mmnorm',\n",
        "       'value_eur_mmnorm', 'wage_eur_mmnorm',\n",
        "       'height_cm_mmnorm', 'weight_kg_mmnorm', 'pace_mmnorm',\n",
        "       'shooting_mmnorm', 'passing_mmnorm', 'dribbling_mmnorm',\n",
        "       'defending_mmnorm', 'physic_mmnorm', 'attacking_crossing_mmnorm',\n",
        "       'attacking_finishing_mmnorm', 'attacking_heading_accuracy_mmnorm',\n",
        "       'attacking_short_passing_mmnorm', 'attacking_volleys_mmnorm',\n",
        "       'skill_dribbling_mmnorm', 'skill_curve_mmnorm',\n",
        "       'skill_fk_accuracy_mmnorm', 'skill_long_passing_mmnorm',\n",
        "       'skill_ball_control_mmnorm', 'movement_acceleration_mmnorm',\n",
        "       'movement_sprint_speed_mmnorm', 'movement_agility_mmnorm',\n",
        "       'movement_reactions_mmnorm',\n",
        "       'power_shot_power_mmnorm', 'power_jumping_mmnorm',\n",
        "       'power_stamina_mmnorm', 'power_strength_mmnorm',\n",
        "       'power_long_shots_mmnorm', 'mentality_aggression_mmnorm',\n",
        "       'mentality_interceptions_mmnorm', 'mentality_positioning_mmnorm',\n",
        "       'mentality_vision_mmnorm', 'mentality_penalties_mmnorm',\n",
        "       'mentality_composure_mmnorm', 'defending_marking_awareness_mmnorm',\n",
        "       'defending_standing_tackle_mmnorm', 'defending_sliding_tackle_mmnorm'\n",
        "\n",
        "]\n",
        "\n",
        "# Print descriptive statistics for each variable\n",
        "for variable in variables_of_interest:\n",
        "    print(f\"Descriptive statistics for variable: {variable}\")\n",
        "    print(cluster_stats[variable])\n",
        "    print()"
      ]
    },
    {
      "cell_type": "code",
      "execution_count": null,
      "metadata": {
        "colab": {
          "background_save": true
        },
        "id": "3RM1zP9hLaac"
      },
      "outputs": [],
      "source": [
        "# Assuming km_2cluster_model contains the cluster labels\n",
        "\n",
        "# Grouping the data by cluster labels\n",
        "cluster_groups = df_with_clusters.groupby(km_2cluster_model)\n",
        "\n",
        "# Counting the number of variables in each cluster\n",
        "num_variables_in_clusters = cluster_groups.size()\n",
        "\n",
        "# Displaying the results\n",
        "print(\"Number of Variables in Each Cluster:\")\n",
        "print(num_variables_in_clusters)"
      ]
    },
    {
      "cell_type": "markdown",
      "metadata": {
        "id": "D7ykbgqgWTD7"
      },
      "source": [
        "ANOVA p-values Heatmap for 2 Clusters"
      ]
    },
    {
      "cell_type": "code",
      "execution_count": null,
      "metadata": {
        "colab": {
          "background_save": true
        },
        "id": "yVvOBiJFkSRh"
      },
      "outputs": [],
      "source": [
        "df_noncat_ppd.columns"
      ]
    },
    {
      "cell_type": "code",
      "execution_count": null,
      "metadata": {
        "colab": {
          "background_save": true
        },
        "id": "O53chA_vLgQt"
      },
      "outputs": [],
      "source": [
        "# Joining cluster labels with the original dataset\n",
        "df_with_clusters = df1.copy()\n",
        "df_with_clusters['Cluster_Label'] = km_2cluster_model\n",
        "\n",
        "# Extracting non-categorical variables\n",
        "non_cat_variables = [\n",
        "       'fifa_update', 'age', 'club_jersey_number', 'overall_mmnorm',\n",
        "       'potential_mmnorm', 'value_eur_mmnorm', 'wage_eur_mmnorm',\n",
        "       'height_cm_mmnorm', 'weight_kg_mmnorm', 'pace_mmnorm',\n",
        "       'shooting_mmnorm', 'passing_mmnorm', 'dribbling_mmnorm',\n",
        "       'defending_mmnorm', 'physic_mmnorm', 'attacking_crossing_mmnorm',\n",
        "       'attacking_finishing_mmnorm', 'attacking_heading_accuracy_mmnorm',\n",
        "       'attacking_short_passing_mmnorm', 'attacking_volleys_mmnorm',\n",
        "       'skill_dribbling_mmnorm', 'skill_curve_mmnorm',\n",
        "       'skill_fk_accuracy_mmnorm', 'skill_long_passing_mmnorm',\n",
        "       'skill_ball_control_mmnorm', 'movement_acceleration_mmnorm',\n",
        "       'movement_sprint_speed_mmnorm', 'movement_agility_mmnorm',\n",
        "       'movement_reactions_mmnorm', 'movement_balance_mmnorm',\n",
        "       'power_shot_power_mmnorm', 'power_jumping_mmnorm',\n",
        "       'power_stamina_mmnorm', 'power_strength_mmnorm',\n",
        "       'power_long_shots_mmnorm', 'mentality_aggression_mmnorm',\n",
        "       'mentality_interceptions_mmnorm', 'mentality_positioning_mmnorm',\n",
        "       'mentality_vision_mmnorm', 'mentality_penalties_mmnorm',\n",
        "       'mentality_composure_mmnorm', 'defending_marking_awareness_mmnorm',\n",
        "       'defending_standing_tackle_mmnorm', 'defending_sliding_tackle_mmnorm',\n",
        "       'goalkeeping_diving_mmnorm', 'goalkeeping_handling_mmnorm',\n",
        "       'goalkeeping_kicking_mmnorm', 'goalkeeping_positioning_mmnorm',\n",
        "       'goalkeeping_reflexes_mmnorm', 'goalkeeping_speed_mmnorm']\n",
        "\n",
        "# Grouping variables by cluster label\n",
        "cluster_groups = df_with_clusters.groupby('Cluster_Label')\n",
        "\n",
        "# Perform ANOVA for each non-categorical variable\n",
        "anova_results_non_cat = {}\n",
        "for column in non_cat_variables:\n",
        "    anova_results_non_cat[column] = f_oneway(*[group[column] for name, group in cluster_groups])\n",
        "\n",
        "# Extract p-values for non-categorical variables\n",
        "non_cat_p_values = [result.pvalue for result in anova_results_non_cat.values()]\n",
        "\n",
        "# Plotting heatmap for non-categorical variables\n",
        "plt.figure(figsize=(10, 6))\n",
        "sns.heatmap([non_cat_p_values], cmap='coolwarm', annot=True, fmt='.2f', xticklabels=non_cat_variables, yticklabels=['Clusters'], cbar=False)\n",
        "plt.xlabel('Variable')\n",
        "plt.title('ANOVA p-values Heatmap for Non-Categorical Variables (2 Clusters)')\n",
        "plt.show()\n"
      ]
    },
    {
      "cell_type": "markdown",
      "metadata": {
        "id": "QjK-Hc0EWds0"
      },
      "source": [
        "Chi-square P-values Heatmap for 2 clusters"
      ]
    },
    {
      "cell_type": "code",
      "execution_count": null,
      "metadata": {
        "colab": {
          "background_save": true
        },
        "id": "372TsbT6krVo"
      },
      "outputs": [],
      "source": [
        "df_cat_ppd.columns"
      ]
    },
    {
      "cell_type": "code",
      "execution_count": null,
      "metadata": {
        "colab": {
          "background_save": true
        },
        "id": "dusQcfNxLq4z"
      },
      "outputs": [],
      "source": [
        "cat_variables = ['fifa_version', 'league_id', 'league_level', 'club_team_id',\n",
        "       'nationality_id', 'nation_team_id', 'weak_foot', 'skill_moves',\n",
        "       'international_reputation', 'club_position_oe', 'preferred_foot_oe',\n",
        "       'work_rate_oe', 'body_type_oe']\n",
        "\n",
        "# Initialize dictionary to store chi-square results\n",
        "chi2_results_cat = {}\n",
        "\n",
        "# Calculate chi-square for each categorical variable\n",
        "for column in cat_variables:\n",
        "    contingency_table = pd.crosstab(df_with_clusters[column], km_2cluster_model)\n",
        "    chi2, p_value, _, _ = chi2_contingency(contingency_table)\n",
        "    chi2_results_cat[column] = {'P-value': p_value}\n",
        "\n",
        "# Extract p-values\n",
        "p_values = [[result['P-value'] for result in chi2_results_cat.values()]]\n",
        "\n",
        "# Get variable names\n",
        "variables = list(chi2_results_cat.keys())\n",
        "\n",
        "# Plotting heatmap for p-values\n",
        "plt.figure(figsize=(10, 6))\n",
        "sns.heatmap(p_values, cmap='coolwarm', annot=True, fmt='.2f', xticklabels=variables, yticklabels=False)\n",
        "plt.xlabel('Variable')\n",
        "plt.ylabel('Cluster Label')\n",
        "plt.title('Chi-square P-values Heatmap for Categorical Variables')\n",
        "plt.show()\n"
      ]
    },
    {
      "cell_type": "code",
      "execution_count": null,
      "metadata": {
        "colab": {
          "background_save": true
        },
        "id": "FglyACFjL69V"
      },
      "outputs": [],
      "source": [
        "# Assign cluster labels to the DataFrame\n",
        "df1['Cluster_Label'] = km_2cluster_model\n",
        "\n",
        "# Plot the scatter plot with clusters and centroids\n",
        "plt.figure(figsize=(10, 6))\n",
        "sns.scatterplot(data=df1, x= 'age', y='potential_mmnorm', hue='Cluster_Label', legend='full')\n",
        "\n",
        "# Set plot title and labels\n",
        "plt.title('Clusters with Centroids')\n",
        "plt.xlabel('age')\n",
        "plt.ylabel('potential_mmnorm')\n",
        "plt.legend()\n",
        "plt.grid(True)\n",
        "%memit\n",
        "plt.show()\n"
      ]
    },
    {
      "cell_type": "markdown",
      "metadata": {
        "id": "X6E7s1M2WoE7"
      },
      "source": [
        "Interactive 3-D Scatter plot for 2-cluster model"
      ]
    },
    {
      "cell_type": "code",
      "execution_count": null,
      "metadata": {
        "colab": {
          "background_save": true
        },
        "id": "yLAV1Vt9MGjf"
      },
      "outputs": [],
      "source": [
        "import plotly.graph_objs as go\n",
        "\n",
        "# Create 3D scatter plot\n",
        "fig = go.Figure()\n",
        "\n",
        "# Add traces for each cluster\n",
        "for cluster_label in df1['Cluster_Label'].unique():\n",
        "    cluster_data = df1[df1['Cluster_Label'] == cluster_label]\n",
        "    fig.add_trace(go.Scatter3d(\n",
        "        x=cluster_data['age'],\n",
        "        y=cluster_data['potential_mmnorm'],\n",
        "        z=cluster_data['Cluster_Label'],\n",
        "        mode='markers',\n",
        "        marker=dict(\n",
        "            size=5,\n",
        "            color=cluster_label,\n",
        "            colorscale='Viridis',  # Adjust colorscale if needed\n",
        "            opacity=0.8\n",
        "        ),\n",
        "        name=f'Cluster {cluster_label}'\n",
        "    ))\n",
        "\n",
        "# Set layout\n",
        "fig.update_layout(\n",
        "    title='Clusters with Centroids (3D)',\n",
        "    scene=dict(\n",
        "        xaxis=dict(title='age'),\n",
        "        yaxis=dict(title='potential_mmnorm'),\n",
        "        zaxis=dict(title='overall_mmnorm'),\n",
        "    ),\n",
        "    margin=dict(l=0, r=0, b=0, t=40)\n",
        ")\n",
        "\n",
        "# Show interactive 3D scatter plot\n",
        "fig.show()\n"
      ]
    },
    {
      "cell_type": "code",
      "execution_count": null,
      "metadata": {
        "colab": {
          "background_save": true
        },
        "id": "RRchu7uLNAkI"
      },
      "outputs": [],
      "source": [
        "# Create subplots for each cluster\n",
        "fig, axes = plt.subplots(1, 2, figsize=(20, 4), sharex=True, sharey=True)\n",
        "fig.suptitle('Clusters with Centroids')\n",
        "\n",
        "# Iterate through each cluster\n",
        "for i in range(2):\n",
        "    # Filter data points belonging to the current cluster\n",
        "    cluster_data = df1[df1['Cluster_Label'] == i]\n",
        "\n",
        "    # Scatter plot of data points\n",
        "    sns.scatterplot(data=cluster_data, x='overall_mmnorm', y='potential_mmnorm', ax=axes[i], label=f'Cluster {i}')\n",
        "\n",
        "    # Set title and labels for each subplot\n",
        "    axes[i].set_title(f'Cluster {i}')\n",
        "    axes[i].set_xlabel('age')\n",
        "    axes[i].set_ylabel('potential_mmnorm')\n",
        "    axes[i].legend()\n",
        "\n",
        "plt.show()\n",
        "%memit"
      ]
    },
    {
      "cell_type": "code",
      "execution_count": null,
      "metadata": {
        "colab": {
          "background_save": true
        },
        "id": "mlZ1NebJNbcJ"
      },
      "outputs": [],
      "source": [
        "# Create K-Means Clusters [K=3]\n",
        "km_3cluster = kmclus(n_clusters=3, init='random', random_state=333)\n",
        "df1['Cluster_Label'] = km_3cluster.fit_predict(df1)\n",
        "km_3cluster_model = df1['Cluster_Label'].values\n",
        "km_3cluster_model"
      ]
    },
    {
      "cell_type": "code",
      "execution_count": null,
      "metadata": {
        "colab": {
          "background_save": true
        },
        "id": "usa7uOVpNhaq"
      },
      "outputs": [],
      "source": [
        "# K-Means Clustering Model Evaluation [K=3]\n",
        "# ------------------------------------------------------\n",
        "\n",
        "sscore_km_3cluster = sscore(df1, km_3cluster_model)\n",
        "dbscore_km_3cluster = dbscore(df1, km_3cluster_model);\n",
        "%memit\n",
        "print(f\"Davies-Bouldin Index for 3 clusters: {dbscore_km_3cluster}\")\n",
        "print(f\"Silhouette Score for 3 clusters: {sscore_km_3cluster}\")"
      ]
    },
    {
      "cell_type": "markdown",
      "metadata": {
        "id": "zQfn4PfpY0Fs"
      },
      "source": [
        "ANOVA"
      ]
    },
    {
      "cell_type": "code",
      "execution_count": null,
      "metadata": {
        "colab": {
          "background_save": true
        },
        "id": "tH8muNaANrHE"
      },
      "outputs": [],
      "source": [
        "# Joining cluster labels with the original dataset\n",
        "df_with_clusters = df1.copy()\n",
        "df_with_clusters['Cluster_Label'] = km_3cluster_model\n",
        "\n",
        "# Extracting non-categorical variables\n",
        "non_cat_variables = [\n",
        "       'fifa_update', 'age', 'club_jersey_number', 'overall_mmnorm',\n",
        "       'potential_mmnorm', 'value_eur_mmnorm', 'wage_eur_mmnorm',\n",
        "       'height_cm_mmnorm', 'weight_kg_mmnorm', 'pace_mmnorm',\n",
        "       'shooting_mmnorm', 'passing_mmnorm', 'dribbling_mmnorm',\n",
        "       'defending_mmnorm', 'physic_mmnorm', 'attacking_crossing_mmnorm',\n",
        "       'attacking_finishing_mmnorm', 'attacking_heading_accuracy_mmnorm',\n",
        "       'attacking_short_passing_mmnorm', 'attacking_volleys_mmnorm',\n",
        "       'skill_dribbling_mmnorm', 'skill_curve_mmnorm',\n",
        "       'skill_fk_accuracy_mmnorm', 'skill_long_passing_mmnorm',\n",
        "       'skill_ball_control_mmnorm', 'movement_acceleration_mmnorm',\n",
        "       'movement_sprint_speed_mmnorm', 'movement_agility_mmnorm',\n",
        "       'movement_reactions_mmnorm', 'movement_balance_mmnorm',\n",
        "       'power_shot_power_mmnorm', 'power_jumping_mmnorm',\n",
        "       'power_stamina_mmnorm', 'power_strength_mmnorm',\n",
        "       'power_long_shots_mmnorm', 'mentality_aggression_mmnorm',\n",
        "       'mentality_interceptions_mmnorm', 'mentality_positioning_mmnorm',\n",
        "       'mentality_vision_mmnorm', 'mentality_penalties_mmnorm',\n",
        "       'mentality_composure_mmnorm', 'defending_marking_awareness_mmnorm',\n",
        "       'defending_standing_tackle_mmnorm', 'defending_sliding_tackle_mmnorm',\n",
        "       'goalkeeping_diving_mmnorm', 'goalkeeping_handling_mmnorm',\n",
        "       'goalkeeping_kicking_mmnorm', 'goalkeeping_positioning_mmnorm',\n",
        "       'goalkeeping_reflexes_mmnorm', 'goalkeeping_speed_mmnorm'\n",
        "       ]\n",
        "\n",
        "\n",
        "# Grouping variables by cluster label\n",
        "cluster_groups = df_with_clusters.groupby('Cluster_Label')\n",
        "\n",
        "# Perform ANOVA for each non-categorical variable\n",
        "anova_results_non_cat = {}\n",
        "for column in non_cat_variables:\n",
        "    anova_results_non_cat[column] = f_oneway(*[group[column] for name, group in cluster_groups])\n",
        "\n",
        "# Print ANOVA results for non-categorical variables\n",
        "for column, result in anova_results_non_cat.items():\n",
        "    print(f\"Variable: {column}\")\n",
        "    print(f\"F-value: {result.statistic}\")\n",
        "    print(f\"P-value: {result.pvalue}\")\n",
        "    print()\n"
      ]
    },
    {
      "cell_type": "markdown",
      "metadata": {
        "id": "kzXi6J4VY2tq"
      },
      "source": [
        "Chi-square Test"
      ]
    },
    {
      "cell_type": "code",
      "execution_count": null,
      "metadata": {
        "colab": {
          "background_save": true
        },
        "id": "jA03G62gN4-y"
      },
      "outputs": [],
      "source": [
        "from scipy.stats import chi2_contingency\n",
        "\n",
        "# Extracting categorical variables\n",
        "cat_variables = [\n",
        "       'fifa_version', 'league_id', 'league_level', 'club_team_id',\n",
        "       'nationality_id', 'nation_team_id', 'weak_foot', 'skill_moves',\n",
        "       'international_reputation', 'club_position_oe', 'preferred_foot_oe',\n",
        "       'work_rate_oe', 'body_type_oe'\n",
        "       ]\n",
        "\n",
        "# Perform Chi-square test for each categorical variable\n",
        "chi2_results_cat = {}\n",
        "for column in cat_variables:\n",
        "    contingency_table = pd.crosstab(df_with_clusters[column], km_3cluster_model)\n",
        "    chi2, p_value, _, _ = chi2_contingency(contingency_table)\n",
        "    chi2_results_cat[column] = {'Chi-square': chi2, 'P-value': p_value}\n",
        "\n",
        "# Print Chi-square test results for categorical variables\n",
        "for column, result in chi2_results_cat.items():\n",
        "    print(f\"Variable: {column}\")\n",
        "    print(f\"Chi-square: {result['Chi-square']}\")\n",
        "    print(f\"P-value: {result['P-value']}\")\n",
        "    print()\n"
      ]
    },
    {
      "cell_type": "markdown",
      "metadata": {
        "id": "fwsb8NO8Y7Zy"
      },
      "source": [
        "Centricity"
      ]
    },
    {
      "cell_type": "code",
      "execution_count": null,
      "metadata": {
        "colab": {
          "background_save": true
        },
        "id": "rFHwvLYWOBT1"
      },
      "outputs": [],
      "source": [
        "# Get the cluster centers\n",
        "cluster_centers = km_3cluster.cluster_centers_\n",
        "\n",
        "# Convert cluster_centers to a DataFrame\n",
        "centroids_df = pd.DataFrame(cluster_centers, columns=df1.columns)\n",
        "\n",
        "# Display the centroids of clusters\n",
        "centroids_df"
      ]
    },
    {
      "cell_type": "code",
      "execution_count": null,
      "metadata": {
        "colab": {
          "background_save": true
        },
        "id": "qkLgw-wWOHEb"
      },
      "outputs": [],
      "source": [
        "# Calculate cluster-wise descriptive statistics\n",
        "cluster_stats = df1.groupby('Cluster_Label').describe()\n",
        "\n",
        "# Print the descriptive statistics for each cluster\n",
        "print(\"Cluster-wise Descriptive Statistics:\")\n",
        "cluster_stats\n"
      ]
    },
    {
      "cell_type": "code",
      "execution_count": null,
      "metadata": {
        "colab": {
          "background_save": true
        },
        "id": "TPKLvXUtOKPQ"
      },
      "outputs": [],
      "source": [
        "# Grouping the data by cluster labels\n",
        "cluster_groups = df_with_clusters.groupby(km_3cluster_model)\n",
        "\n",
        "# Counting the number of variables in each cluster\n",
        "num_variables_in_clusters = cluster_groups.size()\n",
        "\n",
        "# Displaying the results\n",
        "print(\"Number of Variables in Each Cluster:\")\n",
        "print(num_variables_in_clusters)\n"
      ]
    },
    {
      "cell_type": "markdown",
      "metadata": {
        "id": "HUsV15-IZBaJ"
      },
      "source": [
        "ANOVA p-values Heatmap for 3 Clusters"
      ]
    },
    {
      "cell_type": "code",
      "execution_count": null,
      "metadata": {
        "colab": {
          "background_save": true
        },
        "id": "Tj1GKd2HONXI"
      },
      "outputs": [],
      "source": [
        "# Joining cluster labels with the original dataset\n",
        "df_with_clusters = df1.copy()\n",
        "df_with_clusters['Cluster_Label'] = km_3cluster_model\n",
        "\n",
        "# Extracting non-categorical variables\n",
        "non_cat_variables = [\n",
        "       'fifa_update', 'age', 'club_jersey_number', 'overall_mmnorm',\n",
        "       'potential_mmnorm', 'value_eur_mmnorm', 'wage_eur_mmnorm',\n",
        "       'height_cm_mmnorm', 'weight_kg_mmnorm', 'pace_mmnorm',\n",
        "       'shooting_mmnorm', 'passing_mmnorm', 'dribbling_mmnorm',\n",
        "       'defending_mmnorm', 'physic_mmnorm', 'attacking_crossing_mmnorm',\n",
        "       'attacking_finishing_mmnorm', 'attacking_heading_accuracy_mmnorm',\n",
        "       'attacking_short_passing_mmnorm', 'attacking_volleys_mmnorm',\n",
        "       'skill_dribbling_mmnorm', 'skill_curve_mmnorm',\n",
        "       'skill_fk_accuracy_mmnorm', 'skill_long_passing_mmnorm',\n",
        "       'skill_ball_control_mmnorm', 'movement_acceleration_mmnorm',\n",
        "       'movement_sprint_speed_mmnorm', 'movement_agility_mmnorm',\n",
        "       'movement_reactions_mmnorm', 'movement_balance_mmnorm',\n",
        "       'power_shot_power_mmnorm', 'power_jumping_mmnorm',\n",
        "       'power_stamina_mmnorm', 'power_strength_mmnorm',\n",
        "       'power_long_shots_mmnorm', 'mentality_aggression_mmnorm',\n",
        "       'mentality_interceptions_mmnorm', 'mentality_positioning_mmnorm',\n",
        "       'mentality_vision_mmnorm', 'mentality_penalties_mmnorm',\n",
        "       'mentality_composure_mmnorm', 'defending_marking_awareness_mmnorm',\n",
        "       'defending_standing_tackle_mmnorm', 'defending_sliding_tackle_mmnorm',\n",
        "       'goalkeeping_diving_mmnorm', 'goalkeeping_handling_mmnorm',\n",
        "       'goalkeeping_kicking_mmnorm', 'goalkeeping_positioning_mmnorm',\n",
        "       'goalkeeping_reflexes_mmnorm', 'goalkeeping_speed_mmnorm'\n",
        "]\n",
        "\n",
        "# Grouping variables by cluster label\n",
        "cluster_groups = df_with_clusters.groupby('Cluster_Label')\n",
        "\n",
        "# Perform ANOVA for each non-categorical variable\n",
        "anova_results_non_cat = {}\n",
        "for column in non_cat_variables:\n",
        "    anova_results_non_cat[column] = f_oneway(*[group[column] for name, group in cluster_groups])\n",
        "\n",
        "# Extract p-values for non-categorical variables\n",
        "non_cat_p_values = [result.pvalue for result in anova_results_non_cat.values()]\n",
        "\n",
        "# Plotting heatmap for non-categorical variables\n",
        "plt.figure(figsize=(10, 6))\n",
        "sns.heatmap([non_cat_p_values], cmap='coolwarm', annot=True, fmt='.2f', xticklabels=non_cat_variables, yticklabels=['Clusters'], cbar=False)\n",
        "plt.xlabel('Variable')\n",
        "plt.title('ANOVA p-values Heatmap for Non-Categorical Variables (3 Clusters)')\n",
        "plt.show()\n"
      ]
    },
    {
      "cell_type": "markdown",
      "metadata": {
        "id": "nwoYs2klZFdO"
      },
      "source": [
        "Chi-square P-values Heatmap for 3 Cluster"
      ]
    },
    {
      "cell_type": "code",
      "execution_count": null,
      "metadata": {
        "colab": {
          "background_save": true
        },
        "id": "7zZdETrFOUus"
      },
      "outputs": [],
      "source": [
        "cat_variables = [\n",
        "       'fifa_version', 'league_id', 'league_level', 'club_team_id',\n",
        "       'nationality_id', 'nation_team_id', 'weak_foot', 'skill_moves',\n",
        "       'international_reputation', 'club_position_oe', 'preferred_foot_oe',\n",
        "       'work_rate_oe', 'body_type_oe'\n",
        "]\n",
        "\n",
        "# Initialize dictionary to store chi-square results\n",
        "chi2_results_cat = {}\n",
        "\n",
        "# Calculate chi-square for each categorical variable\n",
        "for column in cat_variables:\n",
        "    contingency_table = pd.crosstab(df_with_clusters[column], km_3cluster_model)\n",
        "    chi2, p_value, _, _ = chi2_contingency(contingency_table)\n",
        "    chi2_results_cat[column] = {'P-value': p_value}\n",
        "\n",
        "# Extract p-values\n",
        "p_values = [[result['P-value'] for result in chi2_results_cat.values()]]\n",
        "\n",
        "# Get variable names\n",
        "variables = list(chi2_results_cat.keys())\n",
        "\n",
        "# Plotting heatmap for p-values\n",
        "plt.figure(figsize=(10, 6))\n",
        "sns.heatmap(p_values, cmap='coolwarm', annot=True, fmt='.2f', xticklabels=variables, yticklabels=False)\n",
        "plt.xlabel('Variable')\n",
        "plt.ylabel('Cluster Label')\n",
        "plt.title('Chi-square P-values Heatmap for Categorical Variables (3 Cluster)')\n",
        "plt.show()\n"
      ]
    },
    {
      "cell_type": "code",
      "execution_count": null,
      "metadata": {
        "colab": {
          "background_save": true
        },
        "id": "gSOUIEuWOfp_"
      },
      "outputs": [],
      "source": [
        "# Assign cluster labels to the DataFrame\n",
        "df1['Cluster_Label'] = km_3cluster_model\n",
        "\n",
        "# Plot the scatter plot with clusters and centroids\n",
        "plt.figure(figsize=(10, 6))\n",
        "sns.scatterplot(data=df1, x='age', y='international_reputation', hue='Cluster_Label', legend='full')\n",
        "\n",
        "# Set plot title and labels\n",
        "plt.title('Clusters with Centroids')\n",
        "plt.xlabel('age')\n",
        "plt.ylabel('overall_mmnorm')\n",
        "plt.legend()\n",
        "plt.grid(True)\n",
        "%memit\n",
        "plt.show()\n"
      ]
    },
    {
      "cell_type": "markdown",
      "metadata": {
        "id": "TkVGXMmAZMhp"
      },
      "source": [
        "interactive 3D scatter plot for 3-cluster model"
      ]
    },
    {
      "cell_type": "code",
      "execution_count": null,
      "metadata": {
        "colab": {
          "background_save": true
        },
        "id": "IfteOCZ1T4oN"
      },
      "outputs": [],
      "source": [
        "import plotly.graph_objs as go\n",
        "import numpy as np\n",
        "\n",
        "# Create 3D scatter plot\n",
        "fig = go.Figure()\n",
        "\n",
        "# Get unique cluster labels\n",
        "unique_clusters = np.unique(km_3cluster_model)\n",
        "\n",
        "# Add traces for each cluster\n",
        "for cluster_label in unique_clusters:\n",
        "    cluster_data = df1[km_3cluster_model == cluster_label]\n",
        "    fig.add_trace(go.Scatter3d(\n",
        "        x=cluster_data['age'],\n",
        "        y=cluster_data['overall_mmnorm'],\n",
        "        z=cluster_data['potential_mmnorm'],\n",
        "        mode='markers',\n",
        "        marker=dict(\n",
        "            size=5,\n",
        "            color=cluster_label,\n",
        "            colorscale='Viridis',  # Adjust colorscale if needed\n",
        "            opacity=0.8\n",
        "        ),\n",
        "        name=f'Cluster {cluster_label}'\n",
        "    ))\n",
        "\n",
        "# Set layout\n",
        "fig.update_layout(\n",
        "    title='Clusters with Centroids (3D)',\n",
        "    scene=dict(\n",
        "        xaxis=dict(title='age'),\n",
        "        yaxis=dict(title='overall_mmnorm '),\n",
        "        zaxis=dict(title='potential_mmnorm'),\n",
        "    ),\n",
        "    margin=dict(l=0, r=0, b=0, t=40)\n",
        ")\n",
        "\n",
        "# Show interactive 3D scatter plot\n",
        "fig.show()\n",
        "\n"
      ]
    },
    {
      "cell_type": "code",
      "execution_count": null,
      "metadata": {
        "colab": {
          "background_save": true
        },
        "id": "8HUEdqSpWXjR"
      },
      "outputs": [],
      "source": [
        "# Create subplots for each cluster\n",
        "fig, axes = plt.subplots(1, 3, figsize=(20, 4), sharex=True, sharey=True)\n",
        "fig.suptitle('Clusters with Centroids')\n",
        "\n",
        "# Iterate through each cluster\n",
        "for i in range(3):\n",
        "    # Filter data points belonging to the current cluster\n",
        "    cluster_data = df1[df1['Cluster_Label'] == i]\n",
        "\n",
        "    # Scatter plot of data points\n",
        "    sns.scatterplot(data=cluster_data, x='potential_mmnorm', y='overall_mmnorm', ax=axes[i], label=f'Cluster_Label {i}')\n",
        "\n",
        "    # Set title and labels for each subplot\n",
        "    axes[i].set_title(f'Cluster {i}')\n",
        "    axes[i].set_xlabel('potential_mmnorm')\n",
        "    axes[i].set_ylabel('overall_mmnorm')\n",
        "    axes[i].legend()\n",
        "\n",
        "plt.show()\n",
        "%memit\n"
      ]
    },
    {
      "cell_type": "code",
      "execution_count": null,
      "metadata": {
        "colab": {
          "background_save": true
        },
        "id": "yJY7BBDnXL_V"
      },
      "outputs": [],
      "source": [
        "# Create K-Means Clusters [K=4]\n",
        "km_4cluster = kmclus(n_clusters=4, init='random', random_state=444)\n",
        "df1['Cluster_Label'] = km_4cluster.fit_predict(df1)\n",
        "km_4cluster_model = df1['Cluster_Label'].values\n",
        "km_4cluster_model\n"
      ]
    },
    {
      "cell_type": "code",
      "execution_count": null,
      "metadata": {
        "colab": {
          "background_save": true
        },
        "id": "IJJqGlXbXdW8"
      },
      "outputs": [],
      "source": [
        "# K-Means Clustering Model Evaluation [K=4]\n",
        "# ------------------------------------------------------\n",
        "\n",
        "sscore_km_4cluster = sscore(df1, km_4cluster_model)\n",
        "dbscore_km_4cluster = dbscore(df1, km_4cluster_model);\n",
        "%memit\n",
        "print(f\"Davies-Bouldin Index for 4 clusters: {dbscore_km_4cluster}\")\n",
        "print(f\"Silhouette Score for 4 clusters: {sscore_km_4cluster}\")"
      ]
    },
    {
      "cell_type": "markdown",
      "metadata": {
        "id": "QznWhuf6eIZH"
      },
      "source": [
        "ANOVA"
      ]
    },
    {
      "cell_type": "code",
      "execution_count": null,
      "metadata": {
        "colab": {
          "background_save": true
        },
        "id": "jLfOGgQ5Xh0v"
      },
      "outputs": [],
      "source": [
        "# Joining cluster labels with the original dataset\n",
        "df_with_clusters = df1.copy()\n",
        "df_with_clusters['Cluster_Label'] = km_4cluster_model\n",
        "\n",
        "# Extracting non-categorical variables\n",
        "non_cat_variables = [\n",
        "       'fifa_update', 'age', 'club_jersey_number', 'overall_mmnorm',\n",
        "       'potential_mmnorm', 'value_eur_mmnorm', 'wage_eur_mmnorm',\n",
        "       'height_cm_mmnorm', 'weight_kg_mmnorm', 'pace_mmnorm',\n",
        "       'shooting_mmnorm', 'passing_mmnorm', 'dribbling_mmnorm',\n",
        "       'defending_mmnorm', 'physic_mmnorm', 'attacking_crossing_mmnorm',\n",
        "       'attacking_finishing_mmnorm', 'attacking_heading_accuracy_mmnorm',\n",
        "       'attacking_short_passing_mmnorm', 'attacking_volleys_mmnorm',\n",
        "       'skill_dribbling_mmnorm', 'skill_curve_mmnorm',\n",
        "       'skill_fk_accuracy_mmnorm', 'skill_long_passing_mmnorm',\n",
        "       'skill_ball_control_mmnorm', 'movement_acceleration_mmnorm',\n",
        "       'movement_sprint_speed_mmnorm', 'movement_agility_mmnorm',\n",
        "       'movement_reactions_mmnorm', 'movement_balance_mmnorm',\n",
        "       'power_shot_power_mmnorm', 'power_jumping_mmnorm',\n",
        "       'power_stamina_mmnorm', 'power_strength_mmnorm',\n",
        "       'power_long_shots_mmnorm', 'mentality_aggression_mmnorm',\n",
        "       'mentality_interceptions_mmnorm', 'mentality_positioning_mmnorm',\n",
        "       'mentality_vision_mmnorm', 'mentality_penalties_mmnorm',\n",
        "       'mentality_composure_mmnorm', 'defending_marking_awareness_mmnorm',\n",
        "       'defending_standing_tackle_mmnorm', 'defending_sliding_tackle_mmnorm',\n",
        "       'goalkeeping_diving_mmnorm', 'goalkeeping_handling_mmnorm',\n",
        "       'goalkeeping_kicking_mmnorm', 'goalkeeping_positioning_mmnorm',\n",
        "       'goalkeeping_reflexes_mmnorm', 'goalkeeping_speed_mmnorm'\n",
        "]\n",
        "\n",
        "# Grouping variables by cluster label\n",
        "cluster_groups = df_with_clusters.groupby('Cluster_Label')\n",
        "\n",
        "# Perform ANOVA for each non-categorical variable\n",
        "anova_results_non_cat = {}\n",
        "for column in non_cat_variables:\n",
        "    anova_results_non_cat[column] = f_oneway(*[group[column] for name, group in cluster_groups])\n",
        "\n",
        "# Print ANOVA results for non-categorical variables\n",
        "for column, result in anova_results_non_cat.items():\n",
        "    print(f\"Variable: {column}\")\n",
        "    print(f\"F-value: {result.statistic}\")\n",
        "    print(f\"P-value: {result.pvalue}\")\n",
        "    print()\n"
      ]
    },
    {
      "cell_type": "markdown",
      "metadata": {
        "id": "4K_wK_MSeLRu"
      },
      "source": [
        "Chi-square Test"
      ]
    },
    {
      "cell_type": "code",
      "execution_count": null,
      "metadata": {
        "colab": {
          "background_save": true
        },
        "id": "u-tNiBkVXpSw"
      },
      "outputs": [],
      "source": [
        "from scipy.stats import chi2_contingency\n",
        "\n",
        "# Extracting categorical variables\n",
        "cat_variables = [\n",
        "       'fifa_version', 'league_id', 'league_level', 'club_team_id',\n",
        "       'nationality_id', 'nation_team_id', 'weak_foot', 'skill_moves',\n",
        "       'international_reputation', 'club_position_oe', 'preferred_foot_oe',\n",
        "       'work_rate_oe', 'body_type_oe'\n",
        "       ]\n",
        "\n",
        "# Perform Chi-square test for each categorical variable\n",
        "chi2_results_cat = {}\n",
        "for column in cat_variables:\n",
        "    contingency_table = pd.crosstab(df_with_clusters[column], km_4cluster_model)\n",
        "    chi2, p_value, _, _ = chi2_contingency(contingency_table)\n",
        "    chi2_results_cat[column] = {'Chi-square': chi2, 'P-value': p_value}\n",
        "\n",
        "# Print Chi-square test results for categorical variables\n",
        "for column, result in chi2_results_cat.items():\n",
        "    print(f\"Variable: {column}\")\n",
        "    print(f\"Chi-square: {result['Chi-square']}\")\n",
        "    print(f\"P-value: {result['P-value']}\")\n",
        "    print()\n"
      ]
    },
    {
      "cell_type": "markdown",
      "metadata": {
        "id": "gHA-9myyeREt"
      },
      "source": [
        "Centricity"
      ]
    },
    {
      "cell_type": "code",
      "execution_count": null,
      "metadata": {
        "colab": {
          "background_save": true
        },
        "id": "lj7FQqmEX5FX"
      },
      "outputs": [],
      "source": [
        "cluster_centers = km_4cluster.cluster_centers_\n",
        "\n",
        "# Convert centroids to DataFrame for better visualization\n",
        "centroids_df = pd.DataFrame(cluster_centers, columns=df1.columns)\n",
        "%memit\n",
        "print(\"Centroids of Clusters:\")\n",
        "centroids_df"
      ]
    },
    {
      "cell_type": "code",
      "execution_count": null,
      "metadata": {
        "colab": {
          "background_save": true
        },
        "id": "vadQYIynX9c6"
      },
      "outputs": [],
      "source": [
        "# Calculate cluster-wise descriptive statistics\n",
        "cluster_stats = df1.groupby('Cluster_Label').describe()\n",
        "\n",
        "# Print the descriptive statistics for each cluster\n",
        "print(\"Cluster-wise Descriptive Statistics:\")\n",
        "cluster_stats"
      ]
    },
    {
      "cell_type": "code",
      "execution_count": null,
      "metadata": {
        "colab": {
          "background_save": true
        },
        "id": "DAKy0nNLYAeZ"
      },
      "outputs": [],
      "source": [
        "# Grouping the data by cluster labels\n",
        "cluster_groups = df_with_clusters.groupby(km_4cluster_model)\n",
        "\n",
        "# Counting the number of variables in each cluster\n",
        "num_variables_in_clusters = cluster_groups.size()\n",
        "\n",
        "# Displaying the results\n",
        "print(\"Number of Variables in Each Cluster:\")\n",
        "print(num_variables_in_clusters)\n"
      ]
    },
    {
      "cell_type": "markdown",
      "metadata": {
        "id": "k_IN3GAjeUlN"
      },
      "source": [
        "ANOVA p-values Heatmap for 4 Clusters"
      ]
    },
    {
      "cell_type": "code",
      "execution_count": null,
      "metadata": {
        "colab": {
          "background_save": true
        },
        "id": "k7cd0TxvYbxy"
      },
      "outputs": [],
      "source": [
        "# Joining cluster labels with the original dataset\n",
        "df_with_clusters = df1.copy()\n",
        "df_with_clusters['Cluster_Label'] = km_4cluster_model\n",
        "\n",
        "# Extracting non-categorical variables\n",
        "non_cat_variables = [\n",
        "       'fifa_update', 'age', 'club_jersey_number', 'overall_mmnorm',\n",
        "       'potential_mmnorm', 'value_eur_mmnorm', 'wage_eur_mmnorm',\n",
        "       'height_cm_mmnorm', 'weight_kg_mmnorm', 'pace_mmnorm',\n",
        "       'shooting_mmnorm', 'passing_mmnorm', 'dribbling_mmnorm',\n",
        "       'defending_mmnorm', 'physic_mmnorm', 'attacking_crossing_mmnorm',\n",
        "       'attacking_finishing_mmnorm', 'attacking_heading_accuracy_mmnorm',\n",
        "       'attacking_short_passing_mmnorm', 'attacking_volleys_mmnorm',\n",
        "       'skill_dribbling_mmnorm', 'skill_curve_mmnorm',\n",
        "       'skill_fk_accuracy_mmnorm', 'skill_long_passing_mmnorm',\n",
        "       'skill_ball_control_mmnorm', 'movement_acceleration_mmnorm',\n",
        "       'movement_sprint_speed_mmnorm', 'movement_agility_mmnorm',\n",
        "       'movement_reactions_mmnorm', 'movement_balance_mmnorm',\n",
        "       'power_shot_power_mmnorm', 'power_jumping_mmnorm',\n",
        "       'power_stamina_mmnorm', 'power_strength_mmnorm',\n",
        "       'power_long_shots_mmnorm', 'mentality_aggression_mmnorm',\n",
        "       'mentality_interceptions_mmnorm', 'mentality_positioning_mmnorm',\n",
        "       'mentality_vision_mmnorm', 'mentality_penalties_mmnorm',\n",
        "       'mentality_composure_mmnorm', 'defending_marking_awareness_mmnorm',\n",
        "       'defending_standing_tackle_mmnorm', 'defending_sliding_tackle_mmnorm',\n",
        "       'goalkeeping_diving_mmnorm', 'goalkeeping_handling_mmnorm',\n",
        "       'goalkeeping_kicking_mmnorm', 'goalkeeping_positioning_mmnorm',\n",
        "       'goalkeeping_reflexes_mmnorm', 'goalkeeping_speed_mmnorm'\n",
        "]\n",
        "\n",
        "# Grouping variables by cluster label\n",
        "cluster_groups = df_with_clusters.groupby('Cluster_Label')\n",
        "\n",
        "# Perform ANOVA for each non-categorical variable\n",
        "anova_results_non_cat = {}\n",
        "for column in non_cat_variables:\n",
        "    anova_results_non_cat[column] = f_oneway(*[group[column] for name, group in cluster_groups])\n",
        "\n",
        "# Extract p-values for non-categorical variables\n",
        "non_cat_p_values = [result.pvalue for result in anova_results_non_cat.values()]\n",
        "\n",
        "# Plotting heatmap for non-categorical variables\n",
        "plt.figure(figsize=(10, 6))\n",
        "sns.heatmap([non_cat_p_values], cmap='coolwarm', annot=True, fmt='.2f', xticklabels=non_cat_variables, yticklabels=['Clusters'], cbar=False)\n",
        "plt.xlabel('Variable')\n",
        "plt.title('ANOVA p-values Heatmap for Non-Categorical Variables (4 Clusters)')\n",
        "plt.show()\n"
      ]
    },
    {
      "cell_type": "markdown",
      "metadata": {
        "id": "CIjcxiJ8eY0l"
      },
      "source": [
        "Chi-square P-values Heatmap for 4 Cluster"
      ]
    },
    {
      "cell_type": "code",
      "execution_count": null,
      "metadata": {
        "colab": {
          "background_save": true
        },
        "id": "J--Wn_gWYipJ"
      },
      "outputs": [],
      "source": [
        "cat_variables = [\n",
        "       'fifa_version', 'league_id', 'league_level', 'club_team_id',\n",
        "       'nationality_id', 'nation_team_id', 'weak_foot', 'skill_moves',\n",
        "       'international_reputation', 'club_position_oe', 'preferred_foot_oe',\n",
        "       'work_rate_oe', 'body_type_oe'\n",
        "]\n",
        "\n",
        "# Initialize dictionary to store chi-square results\n",
        "chi2_results_cat = {}\n",
        "\n",
        "# Calculate chi-square for each categorical variable\n",
        "for column in cat_variables:\n",
        "    contingency_table = pd.crosstab(df_with_clusters[column], km_4cluster_model)\n",
        "    chi2, p_value, _, _ = chi2_contingency(contingency_table)\n",
        "    chi2_results_cat[column] = {'P-value': p_value}\n",
        "\n",
        "# Extract p-values\n",
        "p_values = [[result['P-value'] for result in chi2_results_cat.values()]]\n",
        "\n",
        "# Get variable names\n",
        "variables = list(chi2_results_cat.keys())\n",
        "\n",
        "# Plotting heatmap for p-values\n",
        "plt.figure(figsize=(10, 6))\n",
        "sns.heatmap(p_values, cmap='coolwarm', annot=True, fmt='.2f', xticklabels=variables, yticklabels=False)\n",
        "plt.xlabel('Variable')\n",
        "plt.ylabel('Cluster Label')\n",
        "plt.title('Chi-square P-values Heatmap for Categorical Variables (4 Cluster)')\n",
        "plt.show()\n"
      ]
    },
    {
      "cell_type": "code",
      "execution_count": null,
      "metadata": {
        "colab": {
          "background_save": true
        },
        "id": "PfE-eixYZorB"
      },
      "outputs": [],
      "source": [
        "# Assign cluster labels to the DataFrame\n",
        "df1['Cluster_Label'] = km_4cluster_model\n",
        "\n",
        "# Plot the scatter plot with clusters and centroids\n",
        "plt.figure(figsize=(10, 6))\n",
        "sns.scatterplot(data=df1, x='skill_moves', y='potential_mmnorm', hue='Cluster_Label', legend='full')\n",
        "\n",
        "# Set plot title and labels\n",
        "plt.title('Clusters with Centroids')\n",
        "plt.xlabel('skill_moves')\n",
        "plt.ylabel('potential_mmnorm')\n",
        "plt.legend()\n",
        "plt.grid(True)\n",
        "%memit\n",
        "plt.show()\n"
      ]
    },
    {
      "cell_type": "markdown",
      "metadata": {
        "id": "iiOwsUYKedzN"
      },
      "source": [
        "Interactive 3D scatter plot for 4-cluster model"
      ]
    },
    {
      "cell_type": "code",
      "execution_count": null,
      "metadata": {
        "colab": {
          "background_save": true
        },
        "id": "0Qc2ctVcYn_E"
      },
      "outputs": [],
      "source": [
        "import plotly.graph_objs as go\n",
        "import numpy as np\n",
        "\n",
        "# Create 3D scatter plot\n",
        "fig = go.Figure()\n",
        "\n",
        "# Get unique cluster labels\n",
        "unique_clusters = np.unique(km_4cluster_model)\n",
        "\n",
        "# Add traces for each cluster\n",
        "for cluster_label in unique_clusters:\n",
        "    cluster_data = df1[km_4cluster_model == cluster_label]\n",
        "    fig.add_trace(go.Scatter3d(\n",
        "        x=cluster_data['age'],\n",
        "        y=cluster_data['potential_mmnorm'],\n",
        "        z=cluster_data['skill_moves'],\n",
        "        mode='markers',\n",
        "        marker=dict(\n",
        "\n",
        "            size=5,\n",
        "            color=cluster_label,\n",
        "            colorscale='Viridis',  # Adjust colorscale if needed\n",
        "            opacity=0.8\n",
        "        ),\n",
        "        name=f'Cluster {cluster_label}'\n",
        "    ))\n",
        "\n",
        "# Set layout\n",
        "fig.update_layout(\n",
        "    title='Clusters with Centroids (3D)',\n",
        "    scene=dict(\n",
        "        xaxis=dict(title='age'),\n",
        "        yaxis=dict(title='potential_mmnorm'),\n",
        "        zaxis=dict(title='skill_moves'),\n",
        "    ),\n",
        "    margin=dict(l=0, r=0, b=0, t=40)\n",
        ")\n",
        "\n",
        "# Show interactive 3D scatter plot\n",
        "fig.show()\n"
      ]
    },
    {
      "cell_type": "code",
      "execution_count": null,
      "metadata": {
        "colab": {
          "background_save": true
        },
        "id": "0KDtnlxdZ6oJ"
      },
      "outputs": [],
      "source": [
        "# Create subplots for each cluster\n",
        "fig, axes = plt.subplots(1, 4, figsize=(20, 4), sharex=True, sharey=True)\n",
        "fig.suptitle('Clusters with Centroids')\n",
        "\n",
        "# Iterate through each cluster\n",
        "for i in range(4):\n",
        "    # Filter data points belonging to the current cluster\n",
        "    cluster_data = df1[df1['Cluster_Label'] == i]\n",
        "\n",
        "    # Scatter plot of data points\n",
        "    sns.scatterplot(data=cluster_data, x='skill_moves', y='potential_mmnorm', ax=axes[i], label=f'Cluster {i}')\n",
        "\n",
        "    # Set title and labels for each subplot\n",
        "    axes[i].set_title(f'Cluster_Label {i}')\n",
        "    axes[i].set_xlabel('skill_moves')\n",
        "    axes[i].set_ylabel('potential_mmnorm')\n",
        "    axes[i].legend()\n",
        "\n",
        "plt.show()\n",
        "%memit"
      ]
    },
    {
      "cell_type": "code",
      "execution_count": null,
      "metadata": {
        "colab": {
          "background_save": true
        },
        "id": "F-cRi0V8ljUX"
      },
      "outputs": [],
      "source": [
        "# Comparison of Clusters (formed using K-means) on the basis of scores\n",
        "\n",
        "\n",
        "# Silhouette Scores\n",
        "ss_scores = [sscore_km_2cluster, sscore_km_3cluster, sscore_km_4cluster]\n",
        "\n",
        "# Davies-Bouldin Index Scores\n",
        "dbi_scores = [dbscore_km_2cluster, dbscore_km_3cluster, dbscore_km_4cluster]\n",
        "\n",
        "# Number of clusters\n",
        "clusters = [2, 3, 4]\n",
        "\n",
        "# Create a figure and axis object\n",
        "fig, ax = plt.subplots(figsize=(10, 6))\n",
        "\n",
        "# Plot Silhouette Scores\n",
        "ax.plot(clusters, ss_scores, marker='o', linestyle='-', label='Silhouette Score')\n",
        "\n",
        "# Plot Davies-Bouldin Index Scores\n",
        "ax.plot(clusters, dbi_scores, marker='o', linestyle='-', label='Davies-Bouldin Index')\n",
        "\n",
        "# Set plot title and labels\n",
        "ax.set_title('Cluster Evaluation Metrics')\n",
        "ax.set_xlabel('Number of Clusters')\n",
        "ax.set_ylabel('Score')\n",
        "\n",
        "# Add legend\n",
        "ax.legend()\n",
        "\n",
        "# Show plot\n",
        "plt.grid(True)\n",
        "plt.show()"
      ]
    },
    {
      "cell_type": "code",
      "execution_count": null,
      "metadata": {
        "colab": {
          "background_save": true
        },
        "id": "ASECXWp0lPFK"
      },
      "outputs": [],
      "source": [
        "# Track final memory usage\n",
        "final_memory = memory_usage()[0]\n",
        "\n",
        "# Calculate elapsed time\n",
        "elapsed_time = time.time() - start_time\n",
        "%memit\n",
        "# Print total time taken and total memory used\n",
        "print(f\"Total time taken: {elapsed_time} seconds\")"
      ]
    },
    {
      "cell_type": "code",
      "execution_count": null,
      "metadata": {
        "colab": {
          "background_save": true
        },
        "id": "DRa7sJfPB2ON"
      },
      "outputs": [],
      "source": []
    },
    {
      "cell_type": "code",
      "execution_count": null,
      "metadata": {
        "colab": {
          "background_save": true
        },
        "id": "_w1xkYMEDGCY"
      },
      "outputs": [],
      "source": [
        "## Machine Learning Models and Evaluation Metrics\n",
        "\n",
        "from sklearn.utils.validation import column_or_1d\n",
        "from sklearn.metrics import accuracy_score, classification_report, confusion_matrix, f1_score, precision_recall_fscore_support\n",
        "from sklearn.model_selection import cross_val_score\n",
        "from sklearn.linear_model import LogisticRegression, Lasso, Ridge\n",
        "from sklearn.metrics import make_scorer\n",
        "from sklearn.model_selection import train_test_split, StratifiedShuffleSplit\n",
        "from sklearn.metrics import f1_score"
      ]
    },
    {
      "cell_type": "markdown",
      "metadata": {
        "id": "0Z45dv30EtNk"
      },
      "source": [
        "Logistic Regression"
      ]
    },
    {
      "cell_type": "code",
      "execution_count": null,
      "metadata": {
        "colab": {
          "background_save": true
        },
        "id": "s0FAdYZIEuTl"
      },
      "outputs": [],
      "source": [
        "# Track start time and initial memory usage\n",
        "start_time = time.time()\n",
        "initial_memory = memory_usage()[0]"
      ]
    },
    {
      "cell_type": "code",
      "execution_count": null,
      "metadata": {
        "colab": {
          "background_save": true
        },
        "id": "ypT_71dXFSs3"
      },
      "outputs": [],
      "source": [
        "df1.columns"
      ]
    },
    {
      "cell_type": "code",
      "execution_count": null,
      "metadata": {
        "colab": {
          "background_save": true
        },
        "id": "sogvLY24F2uY"
      },
      "outputs": [],
      "source": [
        "# Initialize StratifiedShuffleSplit with desired test size and random state\n",
        "stratified_split = StratifiedShuffleSplit(n_splits=1, test_size=0.2, random_state=12345)\n",
        "\n",
        "# Perform the stratified split to get training and testing indices\n",
        "for train_index, test_index in stratified_split.split(df1_inputs, df1_output):\n",
        "    df1_inputs_train, df1_inputs_test = df1_inputs.iloc[train_index], df1_inputs.iloc[test_index]\n",
        "    df1_output_train, df1_output_test = df1_output.iloc[train_index], df1_output.iloc[test_index]"
      ]
    },
    {
      "cell_type": "code",
      "execution_count": null,
      "metadata": {
        "colab": {
          "background_save": true
        },
        "id": "pea7DI2SFKat"
      },
      "outputs": [],
      "source": [
        "# Subset df1 based on Inputs & Output\n",
        "df1_inputs = df1[[\n",
        "       'fifa_version', 'league_id', 'league_level', 'club_team_id',\n",
        "       'nationality_id', 'nation_team_id', 'weak_foot', 'skill_moves',\n",
        "       'international_reputation', 'club_position_oe', 'preferred_foot_oe',\n",
        "       'work_rate_oe', 'body_type_oe', 'fifa_update', 'age',\n",
        "       'club_jersey_number', 'overall_mmnorm', 'potential_mmnorm',\n",
        "       'value_eur_mmnorm', 'wage_eur_mmnorm', 'height_cm_mmnorm',\n",
        "       'weight_kg_mmnorm', 'pace_mmnorm', 'shooting_mmnorm', 'passing_mmnorm',\n",
        "       'dribbling_mmnorm', 'defending_mmnorm', 'physic_mmnorm',\n",
        "       'attacking_crossing_mmnorm', 'attacking_finishing_mmnorm',\n",
        "       'attacking_heading_accuracy_mmnorm', 'attacking_short_passing_mmnorm',\n",
        "       'attacking_volleys_mmnorm', 'skill_dribbling_mmnorm',\n",
        "       'skill_curve_mmnorm', 'skill_fk_accuracy_mmnorm',\n",
        "       'skill_long_passing_mmnorm', 'skill_ball_control_mmnorm',\n",
        "       'movement_acceleration_mmnorm', 'movement_sprint_speed_mmnorm',\n",
        "       'movement_agility_mmnorm', 'movement_reactions_mmnorm',\n",
        "       'movement_balance_mmnorm', 'power_shot_power_mmnorm',\n",
        "       'power_jumping_mmnorm', 'power_stamina_mmnorm', 'power_strength_mmnorm',\n",
        "       'power_long_shots_mmnorm', 'mentality_aggression_mmnorm',\n",
        "       'mentality_interceptions_mmnorm', 'mentality_positioning_mmnorm',\n",
        "       'mentality_vision_mmnorm', 'mentality_penalties_mmnorm',\n",
        "       'mentality_composure_mmnorm', 'defending_marking_awareness_mmnorm',\n",
        "       'defending_standing_tackle_mmnorm', 'defending_sliding_tackle_mmnorm',\n",
        "       'goalkeeping_diving_mmnorm', 'goalkeeping_handling_mmnorm',\n",
        "       'goalkeeping_kicking_mmnorm', 'goalkeeping_positioning_mmnorm',\n",
        "       'goalkeeping_reflexes_mmnorm', 'goalkeeping_speed_mmnorm'\n",
        "       ]]; df1_inputs\n",
        "df1_output = df1[['Cluster_Label']]; df1_output\n",
        "\n",
        "df1_inputs_names = df1_inputs.columns; df1_inputs_names\n",
        "df1_output_labels = df1_output['Cluster_Label'].unique().astype(str); df1_output_labels"
      ]
    },
    {
      "cell_type": "code",
      "execution_count": null,
      "metadata": {
        "colab": {
          "background_save": true
        },
        "id": "fMU5Jw-CEw5I"
      },
      "outputs": [],
      "source": [
        "# Create and fit a Logistic Regression model\n",
        "logreg = LogisticRegression(random_state=12345, solver='liblinear')\n",
        "logreg.fit(df1_inputs_train, df1_output_train)"
      ]
    },
    {
      "cell_type": "code",
      "execution_count": null,
      "metadata": {
        "colab": {
          "background_save": true
        },
        "id": "xOBiPl9UEzFM"
      },
      "outputs": [],
      "source": [
        "# Make predictions using the trained model\n",
        "y_pred = logreg.predict(df1_inputs_test)\n",
        "\n",
        "# Calculate accuracy\n",
        "accuracy = accuracy_score(df1_output_test, y_pred)\n",
        "print(f'Accuracy: {accuracy}')\n",
        "\n",
        "# Generate classification report\n",
        "classification_rep = classification_report(df1_output_test, y_pred)\n",
        "print(f'Classification Report:\\n{classification_rep}')\n",
        "\n",
        "# Generate confusion matrix\n",
        "conf_mat = confusion_matrix(df1_output_test, y_pred)\n",
        "print(f'Confusion Matrix:\\n{conf_mat}')"
      ]
    },
    {
      "cell_type": "code",
      "execution_count": null,
      "metadata": {
        "colab": {
          "background_save": true
        },
        "id": "6rqhkt47GoI_"
      },
      "outputs": [],
      "source": [
        "# Plot confusion matrix\n",
        "def plot_confusion_matrix(y_true, y_pred):\n",
        "    cm = confusion_matrix(y_true, y_pred)\n",
        "    plt.figure(figsize=(8, 6))\n",
        "    sns.heatmap(cm, annot=True, fmt='d', cmap='Blues', cbar=False)\n",
        "    plt.title('Confusion Matrix')\n",
        "    plt.xlabel('Predicted Labels')\n",
        "    plt.ylabel('True Labels')\n",
        "    plt.show()\n",
        "\n",
        "# Assuming df1_output_test and y_pred are the true and predicted labels, respectively\n",
        "plot_confusion_matrix(df1_output_test, y_pred)"
      ]
    },
    {
      "cell_type": "code",
      "execution_count": null,
      "metadata": {
        "colab": {
          "background_save": true
        },
        "id": "sS_1O1DhE7zz"
      },
      "outputs": [],
      "source": [
        "# Track end time and final memory usage\n",
        "end_time = time.time()\n",
        "final_memory = memory_usage()[0]\n",
        "\n",
        "# Calculate elapsed time and memory used\n",
        "elapsed_time = end_time - start_time\n",
        "memory_used = final_memory - initial_memory\n",
        "\n",
        "print(f\"Elapsed time: {elapsed_time} seconds\")\n",
        "print(f\"Memory used: {memory_used} MiB\")"
      ]
    }
  ],
  "metadata": {
    "colab": {
      "provenance": []
    },
    "kernelspec": {
      "display_name": "Python 3",
      "name": "python3"
    },
    "language_info": {
      "name": "python"
    }
  },
  "nbformat": 4,
  "nbformat_minor": 0
}